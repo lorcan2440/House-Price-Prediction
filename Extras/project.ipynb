{
 "cells": [
  {
   "cell_type": "markdown",
   "metadata": {},
   "source": [
    "## EE4802 - Learning From Data - House Price Prediction"
   ]
  },
  {
   "cell_type": "markdown",
   "metadata": {},
   "source": [
    "Canvas link: https://canvas.nus.edu.sg/courses/38874/assignments/26718\n",
    "\n",
    "#### Project Specification\n",
    "\n",
    "Propose a model that can help the general public determine a fair price for a resale flat that he/she plans to buy/sale based on data available in the url below. Note that transaction prices from as early as 1990 are available.\n",
    "\n",
    "https://data.gov.sg/dataset/resale-flat-prices Links to an external site.\n",
    "\n",
    "Deliverables:\n",
    "\n",
    "- Report (pdf)\n",
    "- Data file (csv or xlsx)\n",
    "- Python code (jpynb) => File -> Download -> Download .jpynb\n",
    " \n",
    "\n",
    "Report guide (max 5 pages):\n",
    "\n",
    "- Data and data preparation\n",
    "- Models and model selection\n",
    "- How to use proposed model to determine fair price\n",
    "- Discussions\n",
    " \n",
    "Grading Rubrics\n",
    "\n",
    "- Appropriateness of analysis 20%\n",
    "- Depth of analysis 30%\n",
    "- Applicability and insights 30%\n",
    "- Report writing 20%"
   ]
  },
  {
   "cell_type": "markdown",
   "metadata": {},
   "source": [
    "The libraries we will be using are:\n",
    "\n",
    "NOTE: some of these modules have dependency conflicts with different versions. Highly reccommend installing using conda to solve the requirements correctly. Updating all to newest version will give errors."
   ]
  },
  {
   "cell_type": "code",
   "execution_count": 2,
   "metadata": {},
   "outputs": [],
   "source": [
    "# https://towardsdatascience.com/principal-component-regression-clearly-explained-and-implemented-608471530a2f\n",
    "\n",
    "import requests\n",
    "import json\n",
    "import os\n",
    "import warnings\n",
    "import sys\n",
    "import logging\n",
    "\n",
    "import pandas as pd\n",
    "import numpy as np\n",
    "from pandas_profiling import ProfileReport\n",
    "from matplotlib import pyplot as plt\n",
    "from PyQt5 import QtCore, QtGui, QtWidgets\n",
    "import plotly.express as px\n",
    "import joblib\n",
    "\n",
    "from sklearn.preprocessing import scale, normalize, PolynomialFeatures, StandardScaler\n",
    "from sklearn.model_selection import KFold, cross_val_score, train_test_split\n",
    "from sklearn.linear_model import LinearRegression, Ridge, Lasso, RidgeCV, LassoCV, LogisticRegression\n",
    "from sklearn.metrics import mean_absolute_error, mean_absolute_percentage_error, mean_squared_error\n",
    "from sklearn.decomposition import PCA\n",
    "\n",
    "import matplotlib_inline.backend_inline\n",
    "\n",
    "pd.set_option('display.max_rows', 50)       # allow viewing more rows in output\n",
    "warnings.filterwarnings(\"ignore\", category=UserWarning)\n",
    "warnings.filterwarnings(\"ignore\", category=FutureWarning)\n",
    "\n",
    "%matplotlib notebook\n",
    "%matplotlib inline\n",
    "matplotlib_inline.backend_inline.set_matplotlib_formats('svg')\n"
   ]
  },
  {
   "cell_type": "markdown",
   "metadata": {},
   "source": [
    "First, we will download the dataset from the data.gov.sg website. This can be done using their API. The result will be stored locally in a JSON file (size ~ 44 MB)"
   ]
  },
  {
   "cell_type": "code",
   "execution_count": 2,
   "metadata": {},
   "outputs": [
    {
     "name": "stdout",
     "output_type": "stream",
     "text": [
      "File already exists\n"
     ]
    }
   ],
   "source": [
    "BASE_URL = 'https://data.gov.sg/api/action/datastore_search'\n",
    "SRC_FILENAME = 'full_dataset.json'\n",
    "\n",
    "# read data from oldest to newest\n",
    "urls = {\n",
    "    '2012-14': '?resource_id=83b2fc37-ce8c-4df4-968b-370fd818138b&limit=52203',\n",
    "    '2015-16': '?resource_id=1b702208-44bf-4829-b620-4615ee19b57c&limit=37153',\n",
    "    '2017-onwards': '?resource_id=f1765b54-a209-4718-8d38-a39237f502b3&limit=144880',\n",
    "}\n",
    "\n",
    "# don't re-download if we already have it\n",
    "if not os.path.exists(SRC_FILENAME):\n",
    "    print('Downloading dataset from the internet (44 MB)...')\n",
    "    dataset = []\n",
    "    for name, url in urls.items():\n",
    "        fileobj = requests.get(BASE_URL + url).json()\n",
    "        relevant_data = fileobj['result']['records']  # extract data fields\n",
    "        dataset += relevant_data  # collect all files together\n",
    "\n",
    "    with open(SRC_FILENAME, 'w') as f:\n",
    "        json.dump(dataset, f)  # write whole dataset to one file\n",
    "\n",
    "    print('Dataset downloaded.')\n",
    "else:\n",
    "    print('File already exists')"
   ]
  },
  {
   "cell_type": "markdown",
   "metadata": {},
   "source": [
    "Now we can load the file and read it. We will drop the `remaining_lease` column, as data from 2017 onwards does not have it. We also drop irrelevant labels."
   ]
  },
  {
   "cell_type": "code",
   "execution_count": 19,
   "metadata": {},
   "outputs": [
    {
     "data": {
      "text/html": [
       "<div>\n",
       "<style scoped>\n",
       "    .dataframe tbody tr th:only-of-type {\n",
       "        vertical-align: middle;\n",
       "    }\n",
       "\n",
       "    .dataframe tbody tr th {\n",
       "        vertical-align: top;\n",
       "    }\n",
       "\n",
       "    .dataframe thead th {\n",
       "        text-align: right;\n",
       "    }\n",
       "</style>\n",
       "<table border=\"1\" class=\"dataframe\">\n",
       "  <thead>\n",
       "    <tr style=\"text-align: right;\">\n",
       "      <th></th>\n",
       "      <th>town</th>\n",
       "      <th>flat_type</th>\n",
       "      <th>flat_model</th>\n",
       "      <th>floor_area_sqm</th>\n",
       "      <th>street_name</th>\n",
       "      <th>resale_price</th>\n",
       "      <th>month</th>\n",
       "      <th>lease_commence_date</th>\n",
       "      <th>block</th>\n",
       "    </tr>\n",
       "  </thead>\n",
       "  <tbody>\n",
       "    <tr>\n",
       "      <th>234231</th>\n",
       "      <td>YISHUN</td>\n",
       "      <td>5 ROOM</td>\n",
       "      <td>Improved</td>\n",
       "      <td>122.0</td>\n",
       "      <td>YISHUN ST 22</td>\n",
       "      <td>495000.0</td>\n",
       "      <td>2023-01</td>\n",
       "      <td>1987</td>\n",
       "      <td>272</td>\n",
       "    </tr>\n",
       "    <tr>\n",
       "      <th>234232</th>\n",
       "      <td>YISHUN</td>\n",
       "      <td>5 ROOM</td>\n",
       "      <td>Improved</td>\n",
       "      <td>113.0</td>\n",
       "      <td>YISHUN ST 51</td>\n",
       "      <td>691800.0</td>\n",
       "      <td>2023-01</td>\n",
       "      <td>2018</td>\n",
       "      <td>513D</td>\n",
       "    </tr>\n",
       "    <tr>\n",
       "      <th>234233</th>\n",
       "      <td>YISHUN</td>\n",
       "      <td>5 ROOM</td>\n",
       "      <td>Improved</td>\n",
       "      <td>113.0</td>\n",
       "      <td>YISHUN ST 51</td>\n",
       "      <td>650000.0</td>\n",
       "      <td>2023-01</td>\n",
       "      <td>2017</td>\n",
       "      <td>512C</td>\n",
       "    </tr>\n",
       "    <tr>\n",
       "      <th>234234</th>\n",
       "      <td>YISHUN</td>\n",
       "      <td>5 ROOM</td>\n",
       "      <td>Improved</td>\n",
       "      <td>122.0</td>\n",
       "      <td>YISHUN ST 72</td>\n",
       "      <td>548000.0</td>\n",
       "      <td>2023-01</td>\n",
       "      <td>1987</td>\n",
       "      <td>760</td>\n",
       "    </tr>\n",
       "    <tr>\n",
       "      <th>234235</th>\n",
       "      <td>YISHUN</td>\n",
       "      <td>EXECUTIVE</td>\n",
       "      <td>Maisonette</td>\n",
       "      <td>145.0</td>\n",
       "      <td>YISHUN AVE 11</td>\n",
       "      <td>755000.0</td>\n",
       "      <td>2023-01</td>\n",
       "      <td>1988</td>\n",
       "      <td>344</td>\n",
       "    </tr>\n",
       "  </tbody>\n",
       "</table>\n",
       "</div>"
      ],
      "text/plain": [
       "          town  flat_type  flat_model  floor_area_sqm    street_name  \\\n",
       "234231  YISHUN     5 ROOM    Improved           122.0   YISHUN ST 22   \n",
       "234232  YISHUN     5 ROOM    Improved           113.0   YISHUN ST 51   \n",
       "234233  YISHUN     5 ROOM    Improved           113.0   YISHUN ST 51   \n",
       "234234  YISHUN     5 ROOM    Improved           122.0   YISHUN ST 72   \n",
       "234235  YISHUN  EXECUTIVE  Maisonette           145.0  YISHUN AVE 11   \n",
       "\n",
       "        resale_price    month  lease_commence_date block  \n",
       "234231      495000.0  2023-01                 1987   272  \n",
       "234232      691800.0  2023-01                 2018  513D  \n",
       "234233      650000.0  2023-01                 2017  512C  \n",
       "234234      548000.0  2023-01                 1987   760  \n",
       "234235      755000.0  2023-01                 1988   344  "
      ]
     },
     "execution_count": 19,
     "metadata": {},
     "output_type": "execute_result"
    }
   ],
   "source": [
    "SRC_FILENAME = 'full_dataset.json'\n",
    "\n",
    "df = pd.read_json(SRC_FILENAME)\n",
    "df.drop('remaining_lease', axis=1, inplace=True)\n",
    "df.drop('_id', axis=1, inplace=True)\n",
    "df.drop('storey_range', axis=1, inplace=True)\n",
    "df.tail()"
   ]
  },
  {
   "attachments": {},
   "cell_type": "markdown",
   "metadata": {},
   "source": [
    "To visualise the geographic distributions, we will lookup the addresses of these houses using an API.\n",
    "This takes a very long time to run, so we store the results and just load the file now."
   ]
  },
  {
   "cell_type": "code",
   "execution_count": 20,
   "metadata": {},
   "outputs": [
    {
     "name": "stdout",
     "output_type": "stream",
     "text": [
      "File already exists.\n"
     ]
    }
   ],
   "source": [
    "logging.basicConfig(filename='coords.log', encoding='utf-8')\n",
    "logger = logging.getLogger()\n",
    "logger.setLevel(logging.INFO)\n",
    "\n",
    "index_counter = -1\n",
    "\n",
    "def get_coordinates(address):\n",
    "    req = requests.get(f'https://developers.onemap.sg/commonapi/search?searchVal={address}&returnGeom=Y&getAddrDetails=Y&pageNum=1')\n",
    "    response = json.loads(req.text)\n",
    "    if len(response['results']) > 0:\n",
    "        return response['results'][0]['LATITUDE'], response['results'][0]['LONGITUDE']\n",
    "    else:\n",
    "        logger.error(f'Could not find coordinates at address {address}.')\n",
    "\n",
    "def get_address_from_row(r):\n",
    "\n",
    "    global index_counter\n",
    "    index_counter += 1\n",
    "\n",
    "    if index_counter % 100 == 0:\n",
    "        logger.info(f'Found first {index_counter} addresses.')\n",
    "\n",
    "    try:\n",
    "        return f\"{r['block']} {r['street_name']}\"\n",
    "    except KeyError:\n",
    "        logger.error(f'Could not split row {index_counter} into block and street name.')\n",
    "\n",
    "SRC_FILENAME = 'full_dataset_modified.json'\n",
    "if not os.path.exists(SRC_FILENAME):\n",
    "    df['lat_long'] = df.apply(lambda r: get_coordinates(get_address_from_row(r)), axis=1)\n",
    "    df.to_json('full_dataset_modified.json')\n",
    "else:\n",
    "    print('File already exists.')"
   ]
  },
  {
   "attachments": {},
   "cell_type": "markdown",
   "metadata": {},
   "source": [
    "## Can Start Running Cells From Here\n",
    "\n",
    "Pre-process the data:"
   ]
  },
  {
   "cell_type": "code",
   "execution_count": 3,
   "metadata": {},
   "outputs": [
    {
     "data": {
      "text/html": [
       "<div>\n",
       "<style scoped>\n",
       "    .dataframe tbody tr th:only-of-type {\n",
       "        vertical-align: middle;\n",
       "    }\n",
       "\n",
       "    .dataframe tbody tr th {\n",
       "        vertical-align: top;\n",
       "    }\n",
       "\n",
       "    .dataframe thead th {\n",
       "        text-align: right;\n",
       "    }\n",
       "</style>\n",
       "<table border=\"1\" class=\"dataframe\">\n",
       "  <thead>\n",
       "    <tr style=\"text-align: right;\">\n",
       "      <th></th>\n",
       "      <th>floor_area_sqm</th>\n",
       "      <th>lease_commence_date</th>\n",
       "      <th>lat</th>\n",
       "      <th>long</th>\n",
       "      <th>flat_type_rank</th>\n",
       "      <th>flat_model_rank</th>\n",
       "      <th>town_rank</th>\n",
       "      <th>months_since_2012</th>\n",
       "      <th>age_years</th>\n",
       "      <th>resale_price</th>\n",
       "    </tr>\n",
       "  </thead>\n",
       "  <tbody>\n",
       "    <tr>\n",
       "      <th>0</th>\n",
       "      <td>45.0</td>\n",
       "      <td>1986.0</td>\n",
       "      <td>1.374694</td>\n",
       "      <td>103.836463</td>\n",
       "      <td>2.0</td>\n",
       "      <td>7.0</td>\n",
       "      <td>5.0</td>\n",
       "      <td>3.0</td>\n",
       "      <td>26.0</td>\n",
       "      <td>250000.0</td>\n",
       "    </tr>\n",
       "    <tr>\n",
       "      <th>1</th>\n",
       "      <td>44.0</td>\n",
       "      <td>1980.0</td>\n",
       "      <td>1.373401</td>\n",
       "      <td>103.849073</td>\n",
       "      <td>2.0</td>\n",
       "      <td>7.0</td>\n",
       "      <td>5.0</td>\n",
       "      <td>3.0</td>\n",
       "      <td>32.0</td>\n",
       "      <td>265000.0</td>\n",
       "    </tr>\n",
       "    <tr>\n",
       "      <th>2</th>\n",
       "      <td>68.0</td>\n",
       "      <td>1980.0</td>\n",
       "      <td>1.379395</td>\n",
       "      <td>103.839157</td>\n",
       "      <td>3.0</td>\n",
       "      <td>2.0</td>\n",
       "      <td>5.0</td>\n",
       "      <td>3.0</td>\n",
       "      <td>32.0</td>\n",
       "      <td>315000.0</td>\n",
       "    </tr>\n",
       "    <tr>\n",
       "      <th>3</th>\n",
       "      <td>67.0</td>\n",
       "      <td>1984.0</td>\n",
       "      <td>1.362758</td>\n",
       "      <td>103.858015</td>\n",
       "      <td>3.0</td>\n",
       "      <td>2.0</td>\n",
       "      <td>5.0</td>\n",
       "      <td>3.0</td>\n",
       "      <td>28.0</td>\n",
       "      <td>320000.0</td>\n",
       "    </tr>\n",
       "    <tr>\n",
       "      <th>4</th>\n",
       "      <td>67.0</td>\n",
       "      <td>1980.0</td>\n",
       "      <td>1.379867</td>\n",
       "      <td>103.835977</td>\n",
       "      <td>3.0</td>\n",
       "      <td>2.0</td>\n",
       "      <td>5.0</td>\n",
       "      <td>3.0</td>\n",
       "      <td>32.0</td>\n",
       "      <td>321000.0</td>\n",
       "    </tr>\n",
       "  </tbody>\n",
       "</table>\n",
       "</div>"
      ],
      "text/plain": [
       "   floor_area_sqm  lease_commence_date       lat        long  flat_type_rank  \\\n",
       "0            45.0               1986.0  1.374694  103.836463             2.0   \n",
       "1            44.0               1980.0  1.373401  103.849073             2.0   \n",
       "2            68.0               1980.0  1.379395  103.839157             3.0   \n",
       "3            67.0               1984.0  1.362758  103.858015             3.0   \n",
       "4            67.0               1980.0  1.379867  103.835977             3.0   \n",
       "\n",
       "   flat_model_rank  town_rank  months_since_2012  age_years  resale_price  \n",
       "0              7.0        5.0                3.0       26.0      250000.0  \n",
       "1              7.0        5.0                3.0       32.0      265000.0  \n",
       "2              2.0        5.0                3.0       32.0      315000.0  \n",
       "3              2.0        5.0                3.0       28.0      320000.0  \n",
       "4              2.0        5.0                3.0       32.0      321000.0  "
      ]
     },
     "execution_count": 3,
     "metadata": {},
     "output_type": "execute_result"
    }
   ],
   "source": [
    "df = pd.read_json('full_dataset_modified.json')\n",
    "df.dropna(inplace=True)\n",
    "\n",
    "# split lat_long into lat and long\n",
    "df = pd.concat([df, pd.DataFrame(df['lat_long'].to_list(), columns=['lat', 'long'])], axis=1)\n",
    "df['lat'] = df['lat'].astype(float)\n",
    "df['long'] = df['long'].astype(float)\n",
    "\n",
    "# one-hot encoding of town\n",
    "# df = pd.concat([df, pd.get_dummies(df['town'], prefix='town')], axis=1)\n",
    "\n",
    "# ordinal encoding of flat type\n",
    "flat_type_mapping = {'1 ROOM': 1, '2 ROOM': 2, '3 ROOM': 3, '4 ROOM': 4,\n",
    "    '5 ROOM': 5, 'EXECUTIVE': 6, 'MULTI-GENERATION': 7}\n",
    "df['flat_type_rank'] = df['flat_type'].replace(flat_type_mapping)\n",
    "\n",
    "# ordinal encoding of flat model and town based on mean value\n",
    "mean_vals_by_flat_model = df.groupby('flat_model')['resale_price'].mean()\n",
    "df['flat_model_rank'] = df['flat_model'].replace(mean_vals_by_flat_model.rank())\n",
    "\n",
    "mean_vals_by_town = df.groupby('town')['resale_price'].mean()\n",
    "df['town_rank'] = df['town'].replace(mean_vals_by_town.rank())\n",
    "\n",
    "# convert month to months since Jan 2012\n",
    "df['month'] = pd.to_datetime(df['month'], yearfirst=True)\n",
    "df['months_since_2012'] = df['month'].apply(lambda d: (d.year - 2012) * 12 + d.month)\n",
    "\n",
    "# calculate age of house in years at sell date since lease start\n",
    "df['age_years'] = df.apply(lambda x: x['month'].year - x['lease_commence_date'], axis=1)\n",
    "\n",
    "# drop edited and unused columns\n",
    "df.drop('town', axis=1, inplace=True)\n",
    "df.drop('flat_type', axis=1, inplace=True)\n",
    "df.drop('flat_model', axis=1, inplace=True)\n",
    "df.drop('month', axis=1, inplace=True)\n",
    "df.drop('street_name', axis=1, inplace=True)\n",
    "df.drop('block', axis=1, inplace=True)\n",
    "df.drop('lat_long', axis=1, inplace=True)\n",
    "df.dropna(inplace=True)\n",
    "\n",
    "# move resale_price to end\n",
    "resale_price_col = df.pop('resale_price')\n",
    "df.insert(len(df.axes[1]), \"resale_price\", resale_price_col)\n",
    "\n",
    "df.head()"
   ]
  },
  {
   "attachments": {},
   "cell_type": "markdown",
   "metadata": {},
   "source": [
    "Investigate - report, map:"
   ]
  },
  {
   "cell_type": "code",
   "execution_count": null,
   "metadata": {},
   "outputs": [],
   "source": [
    "ProfileReport(df)\n",
    "\n",
    "import plotly.express as px\n",
    "fig = px.density_mapbox(df, lat='lat', lon='long', z='resale_price', radius=4,\n",
    "                        center=dict(lat=1.35, lon=103.8), zoom=9.5,\n",
    "                        mapbox_style=\"stamen-terrain\")\n",
    "fig.show()"
   ]
  },
  {
   "attachments": {},
   "cell_type": "markdown",
   "metadata": {},
   "source": [
    "Compute reference MSE values for plain (no PCA) regressions."
   ]
  },
  {
   "cell_type": "code",
   "execution_count": 8,
   "metadata": {},
   "outputs": [
    {
     "name": "stdout",
     "output_type": "stream",
     "text": [
      "32420956.511959203 67673.83050972295 60158.863371640575\n"
     ]
    }
   ],
   "source": [
    "X = df.drop('resale_price', axis=1)\n",
    "y = df['resale_price']\n",
    "\n",
    "poly = PolynomialFeatures(degree=3, include_bias=False)\n",
    "X_poly = poly.fit_transform(X)  # new variables are [a, b, a^2, ab, b^2, ... (all combinations)]\n",
    "\n",
    "X_train, X_test, y_train, y_test = train_test_split(X_poly, y, test_size=0.2)\n",
    "X_train_scaled = scale(X_train)\n",
    "X_test_scaled = scale(X_test)\n",
    "\n",
    "cv = KFold(n_splits=10, shuffle=True)\n",
    "\n",
    "# Linear Regression - plain\n",
    "lin_reg = LinearRegression().fit(X_train_scaled, y_train)\n",
    "lr_score_train = -1 * cross_val_score(lin_reg, X_train_scaled, y_train, cv=cv, scoring='neg_root_mean_squared_error').mean()\n",
    "lr_score_test = mean_squared_error(y_test, lin_reg.predict(X_test_scaled), squared=False)\n",
    "\n",
    "# Lasso Regression - plain\n",
    "lasso_reg = LassoCV().fit(X_train_scaled, y_train)\n",
    "lasso_score_train = -1 * cross_val_score(lasso_reg, X_train_scaled, y_train, cv=cv, scoring='neg_root_mean_squared_error').mean()\n",
    "lasso_score_test = mean_squared_error(y_test, lasso_reg.predict(X_test_scaled), squared=False)\n",
    "\n",
    "# Ridge Regression - plain\n",
    "ridge_reg = RidgeCV().fit(X_train_scaled, y_train)\n",
    "ridge_score_train = -1 * cross_val_score(ridge_reg, X_train_scaled, y_train, cv=cv, scoring='neg_root_mean_squared_error').mean()\n",
    "ridge_score_test = mean_squared_error(y_test, ridge_reg.predict(X_test_scaled), squared=False)\n",
    "\n",
    "print(lr_score_test, lasso_score_test, ridge_score_test)"
   ]
  },
  {
   "attachments": {},
   "cell_type": "markdown",
   "metadata": {},
   "source": [
    "Test all models using PCA:"
   ]
  },
  {
   "cell_type": "code",
   "execution_count": null,
   "metadata": {},
   "outputs": [],
   "source": [
    "# Generate all the principal components\n",
    "pca = PCA()  # Default n_components = min(n_samples, n_features)\n",
    "lin_reg = LinearRegression()\n",
    "\n",
    "cum_vars = {1: None, 2: None, 3: None}\n",
    "rmse_scores = {1: None, 2: None, 3: None}\n",
    "\n",
    "for d in (1, 2, 3):\n",
    "    # check PCA scores\n",
    "    poly = PolynomialFeatures(degree=d, include_bias=False)\n",
    "    X_poly = poly.fit_transform(X)  # new variables are [a, b, a^2, ab, b^2, ... (all combinations)]\n",
    "    X_train, X_test, y_train, y_test = train_test_split(X_poly, y, test_size=0.2)\n",
    "    X_train_scaled = scale(X_train)\n",
    "    X_test_scaled = scale(X_test)\n",
    "    X_train_pc = pca.fit_transform(X_train_scaled)\n",
    "    cum_vars[d] = [sum(pca.explained_variance_ratio_[:i + 1])\n",
    "        for i in range(len(pca.explained_variance_ratio_))]\n",
    "    \n",
    "    print(f'Found variances for degree {d}.')\n",
    "\n",
    "    # check model accuracy\n",
    "    scores = []\n",
    "    for i in range(X_train_pc.shape[1]):\n",
    "        score = -1 * cross_val_score(lin_reg, \n",
    "                             X_train_pc[:, :i + 1], # Use first k principal components\n",
    "                             y_train, \n",
    "                             cv=cv, \n",
    "                             scoring='neg_root_mean_squared_error').mean()\n",
    "        if i % 10 == 0:\n",
    "            print(f'Found accuracy for degree {d} ({i} / {X_train_pc.shape[1]} done)')\n",
    "        scores.append(score)\n",
    "    rmse_scores[d] = scores"
   ]
  },
  {
   "attachments": {},
   "cell_type": "markdown",
   "metadata": {},
   "source": [
    "Make PCA scree plots:"
   ]
  },
  {
   "cell_type": "code",
   "execution_count": 70,
   "metadata": {},
   "outputs": [
    {
     "data": {
      "image/svg+xml": "<?xml version=\"1.0\" encoding=\"utf-8\" standalone=\"no\"?>\n<!DOCTYPE svg PUBLIC \"-//W3C//DTD SVG 1.1//EN\"\n  \"http://www.w3.org/Graphics/SVG/1.1/DTD/svg11.dtd\">\n<svg xmlns:xlink=\"http://www.w3.org/1999/xlink\" width=\"504.700344pt\" height=\"219.489844pt\" viewBox=\"0 0 504.700344 219.489844\" xmlns=\"http://www.w3.org/2000/svg\" version=\"1.1\">\n <metadata>\n  <rdf:RDF xmlns:dc=\"http://purl.org/dc/elements/1.1/\" xmlns:cc=\"http://creativecommons.org/ns#\" xmlns:rdf=\"http://www.w3.org/1999/02/22-rdf-syntax-ns#\">\n   <cc:Work>\n    <dc:type rdf:resource=\"http://purl.org/dc/dcmitype/StillImage\"/>\n    <dc:date>2023-02-22T00:21:57.277556</dc:date>\n    <dc:format>image/svg+xml</dc:format>\n    <dc:creator>\n     <cc:Agent>\n      <dc:title>Matplotlib v3.6.3, https://matplotlib.org/</dc:title>\n     </cc:Agent>\n    </dc:creator>\n   </cc:Work>\n  </rdf:RDF>\n </metadata>\n <defs>\n  <style type=\"text/css\">*{stroke-linejoin: round; stroke-linecap: butt}</style>\n </defs>\n <g id=\"figure_1\">\n  <g id=\"patch_1\">\n   <path d=\"M 0 219.489844 \nL 504.700344 219.489844 \nL 504.700344 -0 \nL 0 -0 \nz\n\" style=\"fill: #ffffff\"/>\n  </g>\n  <g id=\"axes_1\">\n   <g id=\"patch_2\">\n    <path d=\"M 48.229188 185.243281 \nL 438.829188 185.243281 \nL 438.829188 18.923281 \nL 48.229188 18.923281 \nz\n\" style=\"fill: #ffffff\"/>\n   </g>\n   <g id=\"matplotlib.axis_1\">\n    <g id=\"xtick_1\">\n     <g id=\"line2d_1\">\n      <path d=\"M 65.983733 185.243281 \nL 65.983733 18.923281 \n\" clip-path=\"url(#pd9a88ad95f)\" style=\"fill: none; stroke: #000000; stroke-opacity: 0.11; stroke-width: 0.6; stroke-linecap: square\"/>\n     </g>\n     <g id=\"line2d_2\">\n      <defs>\n       <path id=\"m7a734803e0\" d=\"M 0 0 \nL 0 4 \n\" style=\"stroke: #000000; stroke-width: 0.6\"/>\n      </defs>\n      <g>\n       <use xlink:href=\"#m7a734803e0\" x=\"65.983733\" y=\"185.243281\" style=\"stroke: #000000; stroke-width: 0.6\"/>\n      </g>\n     </g>\n     <g id=\"text_1\">\n      <!-- 0 -->\n      <g transform=\"translate(63.482014 197.804844) scale(0.09 -0.09)\">\n       <defs>\n        <path id=\"TeXGyreHeros-Regular-30\" d=\"M 3245 2182 \nQ 3245 1069 2864 486 \nQ 2483 -96 1760 -96 \nQ 1030 -96 652 489 \nQ 275 1075 275 2220 \nQ 275 3366 649 3952 \nQ 1024 4538 1760 4538 \nQ 3245 4538 3245 2182 \nz\nM 2669 2234 \nQ 2669 4038 1760 4038 \nQ 851 4038 851 2214 \nQ 851 371 1747 371 \nQ 2221 371 2445 822 \nQ 2669 1274 2669 2234 \nz\n\" transform=\"scale(0.015625)\"/>\n       </defs>\n       <use xlink:href=\"#TeXGyreHeros-Regular-30\"/>\n      </g>\n     </g>\n    </g>\n    <g id=\"xtick_2\">\n     <g id=\"line2d_3\">\n      <path d=\"M 147.426602 185.243281 \nL 147.426602 18.923281 \n\" clip-path=\"url(#pd9a88ad95f)\" style=\"fill: none; stroke: #000000; stroke-opacity: 0.11; stroke-width: 0.6; stroke-linecap: square\"/>\n     </g>\n     <g id=\"line2d_4\">\n      <g>\n       <use xlink:href=\"#m7a734803e0\" x=\"147.426602\" y=\"185.243281\" style=\"stroke: #000000; stroke-width: 0.6\"/>\n      </g>\n     </g>\n     <g id=\"text_2\">\n      <!-- 50 -->\n      <g transform=\"translate(142.423165 197.804844) scale(0.09 -0.09)\">\n       <defs>\n        <path id=\"TeXGyreHeros-Regular-35\" d=\"M 3283 1504 \nQ 3283 787 2851 345 \nQ 2419 -96 1728 -96 \nQ 1107 -96 732 205 \nQ 358 506 224 1165 \nL 787 1165 \nQ 986 403 1715 403 \nQ 2182 403 2444 672 \nQ 2707 941 2707 1427 \nQ 2707 1926 2441 2208 \nQ 2176 2490 1715 2490 \nQ 1453 2490 1267 2397 \nQ 1082 2304 883 2067 \nL 365 2067 \nL 704 4442 \nL 3046 4442 \nL 3046 3885 \nL 1158 3885 \nL 979 2714 \nQ 1357 2989 1818 2989 \nQ 2470 2989 2876 2582 \nQ 3283 2176 3283 1504 \nz\n\" transform=\"scale(0.015625)\"/>\n       </defs>\n       <use xlink:href=\"#TeXGyreHeros-Regular-35\"/>\n       <use xlink:href=\"#TeXGyreHeros-Regular-30\" x=\"55.599991\"/>\n      </g>\n     </g>\n    </g>\n    <g id=\"xtick_3\">\n     <g id=\"line2d_5\">\n      <path d=\"M 228.869471 185.243281 \nL 228.869471 18.923281 \n\" clip-path=\"url(#pd9a88ad95f)\" style=\"fill: none; stroke: #000000; stroke-opacity: 0.11; stroke-width: 0.6; stroke-linecap: square\"/>\n     </g>\n     <g id=\"line2d_6\">\n      <g>\n       <use xlink:href=\"#m7a734803e0\" x=\"228.869471\" y=\"185.243281\" style=\"stroke: #000000; stroke-width: 0.6\"/>\n      </g>\n     </g>\n     <g id=\"text_3\">\n      <!-- 100 -->\n      <g transform=\"translate(221.364315 197.804844) scale(0.09 -0.09)\">\n       <defs>\n        <path id=\"TeXGyreHeros-Regular-31\" d=\"M 2221 0 \nL 1658 0 \nL 1658 3232 \nL 653 3232 \nL 653 3635 \nQ 1306 3718 1504 3865 \nQ 1702 4013 1850 4538 \nL 2221 4538 \nL 2221 0 \nz\n\" transform=\"scale(0.015625)\"/>\n       </defs>\n       <use xlink:href=\"#TeXGyreHeros-Regular-31\"/>\n       <use xlink:href=\"#TeXGyreHeros-Regular-30\" x=\"55.599991\"/>\n       <use xlink:href=\"#TeXGyreHeros-Regular-30\" x=\"111.199982\"/>\n      </g>\n     </g>\n    </g>\n    <g id=\"xtick_4\">\n     <g id=\"line2d_7\">\n      <path d=\"M 310.31234 185.243281 \nL 310.31234 18.923281 \n\" clip-path=\"url(#pd9a88ad95f)\" style=\"fill: none; stroke: #000000; stroke-opacity: 0.11; stroke-width: 0.6; stroke-linecap: square\"/>\n     </g>\n     <g id=\"line2d_8\">\n      <g>\n       <use xlink:href=\"#m7a734803e0\" x=\"310.31234\" y=\"185.243281\" style=\"stroke: #000000; stroke-width: 0.6\"/>\n      </g>\n     </g>\n     <g id=\"text_4\">\n      <!-- 150 -->\n      <g transform=\"translate(302.807184 197.804844) scale(0.09 -0.09)\">\n       <use xlink:href=\"#TeXGyreHeros-Regular-31\"/>\n       <use xlink:href=\"#TeXGyreHeros-Regular-35\" x=\"55.599991\"/>\n       <use xlink:href=\"#TeXGyreHeros-Regular-30\" x=\"111.199982\"/>\n      </g>\n     </g>\n    </g>\n    <g id=\"xtick_5\">\n     <g id=\"line2d_9\">\n      <path d=\"M 391.755209 185.243281 \nL 391.755209 18.923281 \n\" clip-path=\"url(#pd9a88ad95f)\" style=\"fill: none; stroke: #000000; stroke-opacity: 0.11; stroke-width: 0.6; stroke-linecap: square\"/>\n     </g>\n     <g id=\"line2d_10\">\n      <g>\n       <use xlink:href=\"#m7a734803e0\" x=\"391.755209\" y=\"185.243281\" style=\"stroke: #000000; stroke-width: 0.6\"/>\n      </g>\n     </g>\n     <g id=\"text_5\">\n      <!-- 200 -->\n      <g transform=\"translate(384.250053 197.804844) scale(0.09 -0.09)\">\n       <defs>\n        <path id=\"TeXGyreHeros-Regular-32\" d=\"M 3270 3206 \nQ 3270 2349 2310 1837 \nL 1670 1491 \nQ 1254 1248 1075 1043 \nQ 896 838 851 557 \nL 3238 557 \nL 3238 0 \nL 218 0 \nQ 256 749 518 1155 \nQ 781 1562 1491 1965 \nL 2080 2298 \nQ 2694 2650 2694 3194 \nQ 2694 3558 2438 3801 \nQ 2182 4045 1798 4045 \nQ 1370 4045 1142 3785 \nQ 915 3526 883 2963 \nL 320 2963 \nQ 365 4538 1818 4538 \nQ 2458 4538 2864 4160 \nQ 3270 3782 3270 3206 \nz\n\" transform=\"scale(0.015625)\"/>\n       </defs>\n       <use xlink:href=\"#TeXGyreHeros-Regular-32\"/>\n       <use xlink:href=\"#TeXGyreHeros-Regular-30\" x=\"55.599991\"/>\n       <use xlink:href=\"#TeXGyreHeros-Regular-30\" x=\"111.199982\"/>\n      </g>\n     </g>\n    </g>\n    <g id=\"xtick_6\">\n     <g id=\"line2d_11\">\n      <defs>\n       <path id=\"mdc6932ad1a\" d=\"M 0 0 \nL 0 2 \n\" style=\"stroke: #000000; stroke-width: 0.48\"/>\n      </defs>\n      <g>\n       <use xlink:href=\"#mdc6932ad1a\" x=\"49.695159\" y=\"185.243281\" style=\"stroke: #000000; stroke-width: 0.48\"/>\n      </g>\n     </g>\n    </g>\n    <g id=\"xtick_7\">\n     <g id=\"line2d_12\">\n      <g>\n       <use xlink:href=\"#mdc6932ad1a\" x=\"82.272307\" y=\"185.243281\" style=\"stroke: #000000; stroke-width: 0.48\"/>\n      </g>\n     </g>\n    </g>\n    <g id=\"xtick_8\">\n     <g id=\"line2d_13\">\n      <g>\n       <use xlink:href=\"#mdc6932ad1a\" x=\"98.560881\" y=\"185.243281\" style=\"stroke: #000000; stroke-width: 0.48\"/>\n      </g>\n     </g>\n    </g>\n    <g id=\"xtick_9\">\n     <g id=\"line2d_14\">\n      <g>\n       <use xlink:href=\"#mdc6932ad1a\" x=\"114.849454\" y=\"185.243281\" style=\"stroke: #000000; stroke-width: 0.48\"/>\n      </g>\n     </g>\n    </g>\n    <g id=\"xtick_10\">\n     <g id=\"line2d_15\">\n      <g>\n       <use xlink:href=\"#mdc6932ad1a\" x=\"131.138028\" y=\"185.243281\" style=\"stroke: #000000; stroke-width: 0.48\"/>\n      </g>\n     </g>\n    </g>\n    <g id=\"xtick_11\">\n     <g id=\"line2d_16\">\n      <g>\n       <use xlink:href=\"#mdc6932ad1a\" x=\"163.715176\" y=\"185.243281\" style=\"stroke: #000000; stroke-width: 0.48\"/>\n      </g>\n     </g>\n    </g>\n    <g id=\"xtick_12\">\n     <g id=\"line2d_17\">\n      <g>\n       <use xlink:href=\"#mdc6932ad1a\" x=\"180.00375\" y=\"185.243281\" style=\"stroke: #000000; stroke-width: 0.48\"/>\n      </g>\n     </g>\n    </g>\n    <g id=\"xtick_13\">\n     <g id=\"line2d_18\">\n      <g>\n       <use xlink:href=\"#mdc6932ad1a\" x=\"196.292323\" y=\"185.243281\" style=\"stroke: #000000; stroke-width: 0.48\"/>\n      </g>\n     </g>\n    </g>\n    <g id=\"xtick_14\">\n     <g id=\"line2d_19\">\n      <g>\n       <use xlink:href=\"#mdc6932ad1a\" x=\"212.580897\" y=\"185.243281\" style=\"stroke: #000000; stroke-width: 0.48\"/>\n      </g>\n     </g>\n    </g>\n    <g id=\"xtick_15\">\n     <g id=\"line2d_20\">\n      <g>\n       <use xlink:href=\"#mdc6932ad1a\" x=\"245.158045\" y=\"185.243281\" style=\"stroke: #000000; stroke-width: 0.48\"/>\n      </g>\n     </g>\n    </g>\n    <g id=\"xtick_16\">\n     <g id=\"line2d_21\">\n      <g>\n       <use xlink:href=\"#mdc6932ad1a\" x=\"261.446619\" y=\"185.243281\" style=\"stroke: #000000; stroke-width: 0.48\"/>\n      </g>\n     </g>\n    </g>\n    <g id=\"xtick_17\">\n     <g id=\"line2d_22\">\n      <g>\n       <use xlink:href=\"#mdc6932ad1a\" x=\"277.735193\" y=\"185.243281\" style=\"stroke: #000000; stroke-width: 0.48\"/>\n      </g>\n     </g>\n    </g>\n    <g id=\"xtick_18\">\n     <g id=\"line2d_23\">\n      <g>\n       <use xlink:href=\"#mdc6932ad1a\" x=\"294.023766\" y=\"185.243281\" style=\"stroke: #000000; stroke-width: 0.48\"/>\n      </g>\n     </g>\n    </g>\n    <g id=\"xtick_19\">\n     <g id=\"line2d_24\">\n      <g>\n       <use xlink:href=\"#mdc6932ad1a\" x=\"326.600914\" y=\"185.243281\" style=\"stroke: #000000; stroke-width: 0.48\"/>\n      </g>\n     </g>\n    </g>\n    <g id=\"xtick_20\">\n     <g id=\"line2d_25\">\n      <g>\n       <use xlink:href=\"#mdc6932ad1a\" x=\"342.889488\" y=\"185.243281\" style=\"stroke: #000000; stroke-width: 0.48\"/>\n      </g>\n     </g>\n    </g>\n    <g id=\"xtick_21\">\n     <g id=\"line2d_26\">\n      <g>\n       <use xlink:href=\"#mdc6932ad1a\" x=\"359.178062\" y=\"185.243281\" style=\"stroke: #000000; stroke-width: 0.48\"/>\n      </g>\n     </g>\n    </g>\n    <g id=\"xtick_22\">\n     <g id=\"line2d_27\">\n      <g>\n       <use xlink:href=\"#mdc6932ad1a\" x=\"375.466635\" y=\"185.243281\" style=\"stroke: #000000; stroke-width: 0.48\"/>\n      </g>\n     </g>\n    </g>\n    <g id=\"xtick_23\">\n     <g id=\"line2d_28\">\n      <g>\n       <use xlink:href=\"#mdc6932ad1a\" x=\"408.043783\" y=\"185.243281\" style=\"stroke: #000000; stroke-width: 0.48\"/>\n      </g>\n     </g>\n    </g>\n    <g id=\"xtick_24\">\n     <g id=\"line2d_29\">\n      <g>\n       <use xlink:href=\"#mdc6932ad1a\" x=\"424.332357\" y=\"185.243281\" style=\"stroke: #000000; stroke-width: 0.48\"/>\n      </g>\n     </g>\n    </g>\n    <g id=\"text_6\">\n     <!-- Number of PCs used as features -->\n     <g transform=\"translate(178.256688 210.328125) scale(0.09 -0.09)\">\n      <defs>\n       <path id=\"TeXGyreHeros-Regular-4e\" d=\"M 4134 0 \nL 3462 0 \nL 1050 3782 \nL 1050 0 \nL 486 0 \nL 486 4666 \nL 1133 4666 \nL 3571 851 \nL 3571 4666 \nL 4134 4666 \nL 4134 0 \nz\n\" transform=\"scale(0.015625)\"/>\n       <path id=\"TeXGyreHeros-Regular-75\" d=\"M 3085 0 \nL 2605 0 \nL 2605 518 \nQ 2368 186 2112 45 \nQ 1856 -96 1485 -96 \nQ 998 -96 707 153 \nQ 416 403 416 819 \nL 416 3354 \nL 947 3354 \nL 947 1030 \nQ 947 730 1132 550 \nQ 1318 371 1638 371 \nQ 2054 371 2304 681 \nQ 2554 992 2554 1504 \nL 2554 3354 \nL 3085 3354 \nL 3085 0 \nz\n\" transform=\"scale(0.015625)\"/>\n       <path id=\"TeXGyreHeros-Regular-6d\" d=\"M 4864 0 \nL 4333 0 \nL 4333 2310 \nQ 4333 2630 4173 2806 \nQ 4013 2982 3718 2982 \nQ 3392 2982 3158 2726 \nQ 2925 2470 2925 2106 \nL 2925 0 \nL 2394 0 \nL 2394 2310 \nQ 2394 2630 2230 2806 \nQ 2067 2982 1773 2982 \nQ 1446 2982 1216 2726 \nQ 986 2470 986 2106 \nL 986 0 \nL 454 0 \nL 454 3354 \nL 941 3354 \nL 941 2880 \nQ 1158 3181 1398 3315 \nQ 1638 3450 1971 3450 \nQ 2592 3450 2874 2938 \nQ 3110 3219 3340 3334 \nQ 3571 3450 3904 3450 \nQ 4371 3450 4617 3210 \nQ 4864 2970 4864 2515 \nL 4864 0 \nz\n\" transform=\"scale(0.015625)\"/>\n       <path id=\"TeXGyreHeros-Regular-62\" d=\"M 3347 1715 \nQ 3347 896 2947 400 \nQ 2547 -96 1888 -96 \nQ 1203 -96 826 480 \nL 826 0 \nL 346 0 \nL 346 4666 \nL 877 4666 \nL 877 2899 \nQ 1242 3450 1914 3450 \nQ 2579 3450 2963 2989 \nQ 3347 2528 3347 1715 \nz\nM 2790 1683 \nQ 2790 2246 2521 2598 \nQ 2253 2950 1811 2950 \nQ 1389 2970 1133 2618 \nQ 877 2266 877 1677 \nQ 877 1107 1133 755 \nQ 1389 403 1811 403 \nQ 2246 403 2518 758 \nQ 2790 1114 2790 1683 \nz\n\" transform=\"scale(0.015625)\"/>\n       <path id=\"TeXGyreHeros-Regular-65\" d=\"M 3283 1523 \nL 813 1523 \nQ 819 966 1091 681 \nQ 1363 397 1798 397 \nQ 2470 397 2675 1018 \nL 3213 1018 \nQ 3110 506 2729 205 \nQ 2349 -96 1779 -96 \nQ 1069 -96 662 368 \nQ 256 832 256 1657 \nQ 256 2483 672 2966 \nQ 1088 3450 1792 3450 \nQ 2266 3450 2627 3213 \nQ 2989 2976 3149 2566 \nQ 3283 2214 3283 1523 \nz\nM 2714 1997 \nQ 2714 2394 2445 2675 \nQ 2176 2957 1786 2957 \nQ 1382 2957 1120 2681 \nQ 858 2406 826 1958 \nL 2707 1958 \nL 2714 1997 \nz\n\" transform=\"scale(0.015625)\"/>\n       <path id=\"TeXGyreHeros-Regular-72\" d=\"M 2054 2886 \nQ 1453 2880 1216 2605 \nQ 979 2330 979 1741 \nL 979 0 \nL 448 0 \nL 448 3354 \nL 934 3354 \nL 934 2746 \nQ 1165 3123 1379 3286 \nQ 1594 3450 1850 3450 \nQ 1920 3450 2054 3430 \nL 2054 2886 \nz\n\" transform=\"scale(0.015625)\"/>\n       <path id=\"TeXGyreHeros-Regular-20\" transform=\"scale(0.015625)\"/>\n       <path id=\"TeXGyreHeros-Regular-6f\" d=\"M 3264 1651 \nQ 3264 826 2861 365 \nQ 2458 -96 1747 -96 \nQ 1030 -96 630 368 \nQ 230 832 230 1677 \nQ 230 2515 630 2982 \nQ 1030 3450 1741 3450 \nQ 2470 3450 2867 2982 \nQ 3264 2515 3264 1651 \nz\nM 2707 1658 \nQ 2707 2278 2454 2617 \nQ 2202 2957 1747 2957 \nQ 1299 2957 1043 2617 \nQ 787 2278 787 1677 \nQ 787 1069 1043 733 \nQ 1299 397 1747 397 \nQ 2189 397 2448 733 \nQ 2707 1069 2707 1658 \nz\n\" transform=\"scale(0.015625)\"/>\n       <path id=\"TeXGyreHeros-Regular-66\" d=\"M 1651 2918 \nL 1094 2918 \nL 1094 0 \nL 563 0 \nL 563 2918 \nL 115 2918 \nL 115 3354 \nL 563 3354 \nL 563 3923 \nQ 563 4282 771 4483 \nQ 979 4685 1350 4685 \nQ 1498 4685 1651 4653 \nL 1651 4211 \nQ 1530 4218 1466 4218 \nQ 1094 4218 1094 3878 \nL 1094 3354 \nL 1651 3354 \nL 1651 2918 \nz\n\" transform=\"scale(0.015625)\"/>\n       <path id=\"TeXGyreHeros-Regular-50\" d=\"M 3949 3296 \nQ 3949 2714 3584 2346 \nQ 3219 1978 2643 1978 \nL 1178 1978 \nL 1178 0 \nL 582 0 \nL 582 4666 \nL 2509 4666 \nQ 3200 4666 3574 4310 \nQ 3949 3955 3949 3296 \nz\nM 3088 2720 \nQ 3328 2938 3328 3322 \nQ 3328 3706 3088 3923 \nQ 2848 4141 2419 4141 \nL 1178 4141 \nL 1178 2502 \nL 2419 2502 \nQ 2848 2502 3088 2720 \nz\n\" transform=\"scale(0.015625)\"/>\n       <path id=\"TeXGyreHeros-Regular-43\" d=\"M 4333 1702 \nQ 4122 -115 2413 -115 \nQ 1414 -115 860 553 \nQ 307 1222 307 2278 \nQ 307 3354 864 4067 \nQ 1421 4781 2438 4781 \nQ 3955 4781 4237 3219 \nL 3629 3219 \nQ 3520 3757 3216 4006 \nQ 2912 4256 2368 4256 \nQ 1696 4256 1299 3721 \nQ 902 3187 902 2285 \nQ 902 1414 1312 912 \nQ 1722 410 2419 410 \nQ 3002 410 3306 720 \nQ 3610 1030 3718 1702 \nL 4333 1702 \nz\n\" transform=\"scale(0.015625)\"/>\n       <path id=\"TeXGyreHeros-Regular-73\" d=\"M 2938 941 \nQ 2938 461 2563 182 \nQ 2189 -96 1555 -96 \nQ 896 -96 566 176 \nQ 237 448 218 1024 \nL 781 1024 \nQ 832 659 1024 528 \nQ 1216 397 1600 397 \nQ 1952 397 2166 531 \nQ 2381 666 2381 896 \nQ 2381 1075 2262 1171 \nQ 2144 1267 1862 1338 \nL 1363 1459 \nQ 768 1600 534 1814 \nQ 301 2029 301 2426 \nQ 301 2893 653 3171 \nQ 1005 3450 1587 3450 \nQ 2170 3450 2483 3181 \nQ 2797 2912 2803 2419 \nL 2240 2419 \nQ 2221 2957 1568 2957 \nQ 1242 2957 1050 2819 \nQ 858 2682 858 2451 \nQ 858 2272 1005 2160 \nQ 1152 2048 1478 1971 \nL 1990 1850 \nQ 2496 1728 2717 1520 \nQ 2938 1312 2938 941 \nz\n\" transform=\"scale(0.015625)\"/>\n       <path id=\"TeXGyreHeros-Regular-64\" d=\"M 3168 0 \nL 2694 0 \nL 2694 493 \nQ 2477 179 2224 41 \nQ 1971 -96 1626 -96 \nQ 947 -96 556 384 \nQ 166 864 166 1709 \nQ 166 2509 560 2979 \nQ 954 3450 1606 3450 \nQ 2298 3450 2637 2931 \nL 2637 4666 \nL 3168 4666 \nL 3168 0 \nz\nM 2637 1664 \nQ 2637 2246 2381 2598 \nQ 2125 2950 1696 2950 \nQ 1254 2950 988 2604 \nQ 723 2259 723 1676 \nQ 723 1094 992 748 \nQ 1261 403 1702 403 \nQ 2125 403 2381 745 \nQ 2637 1088 2637 1664 \nz\n\" transform=\"scale(0.015625)\"/>\n       <path id=\"TeXGyreHeros-Regular-61\" d=\"M 3424 13 \nQ 3200 -45 3059 -45 \nQ 2861 -45 2707 80 \nQ 2554 205 2509 397 \nQ 2048 -96 1370 -96 \nQ 858 -96 563 160 \nQ 269 416 269 870 \nQ 269 1498 858 1741 \nQ 1018 1805 1197 1840 \nQ 1376 1875 1933 1946 \nQ 2246 1984 2368 2067 \nQ 2490 2150 2490 2317 \nL 2490 2458 \nQ 2490 2701 2294 2829 \nQ 2099 2957 1741 2957 \nQ 1370 2957 1178 2813 \nQ 986 2669 954 2362 \nL 416 2362 \nQ 461 3450 1760 3450 \nQ 2381 3450 2701 3216 \nQ 3021 2982 3021 2534 \nL 3021 666 \nQ 3021 403 3309 403 \nQ 3366 403 3424 416 \nL 3424 13 \nz\nM 2490 1158 \nL 2490 1658 \nQ 2278 1562 1632 1472 \nQ 1197 1408 1011 1277 \nQ 826 1146 826 883 \nQ 826 371 1485 371 \nQ 1888 371 2189 592 \nQ 2490 813 2490 1158 \nz\n\" transform=\"scale(0.015625)\"/>\n       <path id=\"TeXGyreHeros-Regular-74\" d=\"M 1626 0 \nQ 1376 -45 1190 -45 \nQ 877 -45 710 92 \nQ 544 230 544 486 \nL 544 2918 \nL 90 2918 \nL 90 3354 \nL 544 3354 \nL 544 4275 \nL 1075 4275 \nL 1075 3354 \nL 1626 3354 \nL 1626 2918 \nL 1075 2918 \nL 1075 723 \nQ 1075 544 1136 483 \nQ 1197 422 1370 422 \nQ 1530 422 1626 448 \nL 1626 0 \nz\n\" transform=\"scale(0.015625)\"/>\n      </defs>\n      <use xlink:href=\"#TeXGyreHeros-Regular-4e\"/>\n      <use xlink:href=\"#TeXGyreHeros-Regular-75\" x=\"72.199982\"/>\n      <use xlink:href=\"#TeXGyreHeros-Regular-6d\" x=\"127.799973\"/>\n      <use xlink:href=\"#TeXGyreHeros-Regular-62\" x=\"211.09996\"/>\n      <use xlink:href=\"#TeXGyreHeros-Regular-65\" x=\"266.699951\"/>\n      <use xlink:href=\"#TeXGyreHeros-Regular-72\" x=\"322.299942\"/>\n      <use xlink:href=\"#TeXGyreHeros-Regular-20\" x=\"355.59993\"/>\n      <use xlink:href=\"#TeXGyreHeros-Regular-6f\" x=\"383.399918\"/>\n      <use xlink:href=\"#TeXGyreHeros-Regular-66\" x=\"438.999908\"/>\n      <use xlink:href=\"#TeXGyreHeros-Regular-20\" x=\"466.799896\"/>\n      <use xlink:href=\"#TeXGyreHeros-Regular-50\" x=\"494.599884\"/>\n      <use xlink:href=\"#TeXGyreHeros-Regular-43\" x=\"561.299881\"/>\n      <use xlink:href=\"#TeXGyreHeros-Regular-73\" x=\"633.499863\"/>\n      <use xlink:href=\"#TeXGyreHeros-Regular-20\" x=\"683.499847\"/>\n      <use xlink:href=\"#TeXGyreHeros-Regular-75\" x=\"711.299835\"/>\n      <use xlink:href=\"#TeXGyreHeros-Regular-73\" x=\"766.899826\"/>\n      <use xlink:href=\"#TeXGyreHeros-Regular-65\" x=\"816.899811\"/>\n      <use xlink:href=\"#TeXGyreHeros-Regular-64\" x=\"872.499802\"/>\n      <use xlink:href=\"#TeXGyreHeros-Regular-20\" x=\"928.099792\"/>\n      <use xlink:href=\"#TeXGyreHeros-Regular-61\" x=\"955.89978\"/>\n      <use xlink:href=\"#TeXGyreHeros-Regular-73\" x=\"1011.499771\"/>\n      <use xlink:href=\"#TeXGyreHeros-Regular-20\" x=\"1061.499756\"/>\n      <use xlink:href=\"#TeXGyreHeros-Regular-66\" x=\"1089.299744\"/>\n      <use xlink:href=\"#TeXGyreHeros-Regular-65\" x=\"1117.099731\"/>\n      <use xlink:href=\"#TeXGyreHeros-Regular-61\" x=\"1172.699722\"/>\n      <use xlink:href=\"#TeXGyreHeros-Regular-74\" x=\"1228.299713\"/>\n      <use xlink:href=\"#TeXGyreHeros-Regular-75\" x=\"1256.099701\"/>\n      <use xlink:href=\"#TeXGyreHeros-Regular-72\" x=\"1311.699692\"/>\n      <use xlink:href=\"#TeXGyreHeros-Regular-65\" x=\"1344.99968\"/>\n      <use xlink:href=\"#TeXGyreHeros-Regular-73\" x=\"1400.59967\"/>\n     </g>\n    </g>\n   </g>\n   <g id=\"matplotlib.axis_2\">\n    <g id=\"ytick_1\">\n     <g id=\"line2d_30\">\n      <path d=\"M 48.229188 182.939497 \nL 438.829188 182.939497 \n\" clip-path=\"url(#pd9a88ad95f)\" style=\"fill: none; stroke: #000000; stroke-opacity: 0.11; stroke-width: 0.6; stroke-linecap: square\"/>\n     </g>\n     <g id=\"line2d_31\">\n      <defs>\n       <path id=\"me6b21774c6\" d=\"M 0 0 \nL -4 0 \n\" style=\"stroke: #000000; stroke-width: 0.6\"/>\n      </defs>\n      <g>\n       <use xlink:href=\"#me6b21774c6\" x=\"48.229188\" y=\"182.939497\" style=\"stroke: #000000; stroke-width: 0.6\"/>\n      </g>\n     </g>\n     <g id=\"text_7\">\n      <!-- 0.3 -->\n      <g transform=\"translate(29.720594 186.220278) scale(0.09 -0.09)\">\n       <defs>\n        <path id=\"TeXGyreHeros-Regular-2e\" d=\"M 1222 0 \nL 557 0 \nL 557 666 \nL 1222 666 \nL 1222 0 \nz\n\" transform=\"scale(0.015625)\"/>\n        <path id=\"TeXGyreHeros-Regular-33\" d=\"M 3238 1318 \nQ 3238 672 2819 288 \nQ 2400 -96 1702 -96 \nQ 998 -96 627 262 \nQ 256 621 205 1370 \nL 768 1370 \nQ 800 877 1030 640 \nQ 1261 403 1722 403 \nQ 2163 403 2412 643 \nQ 2662 883 2662 1312 \nQ 2662 1696 2422 1904 \nQ 2182 2112 1722 2112 \nL 1414 2112 \nL 1414 2586 \nQ 2067 2586 2297 2739 \nQ 2528 2893 2528 3270 \nQ 2528 3629 2313 3837 \nQ 2099 4045 1728 4045 \nQ 1293 4045 1081 3808 \nQ 870 3571 864 3072 \nL 301 3072 \nQ 333 4538 1722 4538 \nQ 2368 4538 2736 4205 \nQ 3104 3872 3104 3290 \nQ 3104 2624 2470 2374 \nQ 2874 2234 3056 1984 \nQ 3238 1734 3238 1318 \nz\n\" transform=\"scale(0.015625)\"/>\n       </defs>\n       <use xlink:href=\"#TeXGyreHeros-Regular-30\"/>\n       <use xlink:href=\"#TeXGyreHeros-Regular-2e\" x=\"55.599991\"/>\n       <use xlink:href=\"#TeXGyreHeros-Regular-33\" x=\"83.399979\"/>\n      </g>\n     </g>\n    </g>\n    <g id=\"ytick_2\">\n     <g id=\"line2d_32\">\n      <path d=\"M 48.229188 160.588609 \nL 438.829188 160.588609 \n\" clip-path=\"url(#pd9a88ad95f)\" style=\"fill: none; stroke: #000000; stroke-opacity: 0.11; stroke-width: 0.6; stroke-linecap: square\"/>\n     </g>\n     <g id=\"line2d_33\">\n      <g>\n       <use xlink:href=\"#me6b21774c6\" x=\"48.229188\" y=\"160.588609\" style=\"stroke: #000000; stroke-width: 0.6\"/>\n      </g>\n     </g>\n     <g id=\"text_8\">\n      <!-- 0.4 -->\n      <g transform=\"translate(29.720594 163.86939) scale(0.09 -0.09)\">\n       <defs>\n        <path id=\"TeXGyreHeros-Regular-34\" d=\"M 3328 1088 \nL 2656 1088 \nL 2656 0 \nL 2093 0 \nL 2093 1088 \nL 179 1088 \nL 179 1683 \nL 2240 4538 \nL 2656 4538 \nL 2656 1594 \nL 3328 1594 \nL 3328 1088 \nz\nM 2093 1594 \nL 2093 3578 \nL 672 1594 \nL 2093 1594 \nz\n\" transform=\"scale(0.015625)\"/>\n       </defs>\n       <use xlink:href=\"#TeXGyreHeros-Regular-30\"/>\n       <use xlink:href=\"#TeXGyreHeros-Regular-2e\" x=\"55.599991\"/>\n       <use xlink:href=\"#TeXGyreHeros-Regular-34\" x=\"83.399979\"/>\n      </g>\n     </g>\n    </g>\n    <g id=\"ytick_3\">\n     <g id=\"line2d_34\">\n      <path d=\"M 48.229188 138.237721 \nL 438.829188 138.237721 \n\" clip-path=\"url(#pd9a88ad95f)\" style=\"fill: none; stroke: #000000; stroke-opacity: 0.11; stroke-width: 0.6; stroke-linecap: square\"/>\n     </g>\n     <g id=\"line2d_35\">\n      <g>\n       <use xlink:href=\"#me6b21774c6\" x=\"48.229188\" y=\"138.237721\" style=\"stroke: #000000; stroke-width: 0.6\"/>\n      </g>\n     </g>\n     <g id=\"text_9\">\n      <!-- 0.5 -->\n      <g transform=\"translate(29.720594 141.518502) scale(0.09 -0.09)\">\n       <use xlink:href=\"#TeXGyreHeros-Regular-30\"/>\n       <use xlink:href=\"#TeXGyreHeros-Regular-2e\" x=\"55.599991\"/>\n       <use xlink:href=\"#TeXGyreHeros-Regular-35\" x=\"83.399979\"/>\n      </g>\n     </g>\n    </g>\n    <g id=\"ytick_4\">\n     <g id=\"line2d_36\">\n      <path d=\"M 48.229188 115.886833 \nL 438.829188 115.886833 \n\" clip-path=\"url(#pd9a88ad95f)\" style=\"fill: none; stroke: #000000; stroke-opacity: 0.11; stroke-width: 0.6; stroke-linecap: square\"/>\n     </g>\n     <g id=\"line2d_37\">\n      <g>\n       <use xlink:href=\"#me6b21774c6\" x=\"48.229188\" y=\"115.886833\" style=\"stroke: #000000; stroke-width: 0.6\"/>\n      </g>\n     </g>\n     <g id=\"text_10\">\n      <!-- 0.6 -->\n      <g transform=\"translate(29.720594 119.167614) scale(0.09 -0.09)\">\n       <defs>\n        <path id=\"TeXGyreHeros-Regular-36\" d=\"M 3283 1408 \nQ 3283 742 2867 323 \nQ 2451 -96 1798 -96 \nQ 275 -96 275 2067 \nQ 275 3258 694 3898 \nQ 1114 4538 1901 4538 \nQ 2419 4538 2761 4224 \nQ 3104 3910 3187 3354 \nL 2624 3354 \nQ 2554 3680 2355 3859 \nQ 2157 4038 1862 4038 \nQ 1376 4038 1117 3593 \nQ 858 3149 851 2317 \nQ 1222 2822 1894 2822 \nQ 2509 2822 2896 2432 \nQ 3283 2042 3283 1408 \nz\nM 2707 1363 \nQ 2707 1818 2470 2070 \nQ 2234 2323 1824 2323 \nQ 1402 2323 1142 2070 \nQ 883 1818 883 1395 \nQ 883 960 1145 681 \nQ 1408 403 1805 403 \nQ 2195 403 2451 672 \nQ 2707 941 2707 1363 \nz\n\" transform=\"scale(0.015625)\"/>\n       </defs>\n       <use xlink:href=\"#TeXGyreHeros-Regular-30\"/>\n       <use xlink:href=\"#TeXGyreHeros-Regular-2e\" x=\"55.599991\"/>\n       <use xlink:href=\"#TeXGyreHeros-Regular-36\" x=\"83.399979\"/>\n      </g>\n     </g>\n    </g>\n    <g id=\"ytick_5\">\n     <g id=\"line2d_38\">\n      <path d=\"M 48.229188 93.535945 \nL 438.829188 93.535945 \n\" clip-path=\"url(#pd9a88ad95f)\" style=\"fill: none; stroke: #000000; stroke-opacity: 0.11; stroke-width: 0.6; stroke-linecap: square\"/>\n     </g>\n     <g id=\"line2d_39\">\n      <g>\n       <use xlink:href=\"#me6b21774c6\" x=\"48.229188\" y=\"93.535945\" style=\"stroke: #000000; stroke-width: 0.6\"/>\n      </g>\n     </g>\n     <g id=\"text_11\">\n      <!-- 0.7 -->\n      <g transform=\"translate(29.720594 96.816726) scale(0.09 -0.09)\">\n       <defs>\n        <path id=\"TeXGyreHeros-Regular-37\" d=\"M 3328 3968 \nQ 1862 2227 1485 0 \nL 883 0 \nQ 1363 2144 2746 3885 \nL 294 3885 \nL 294 4442 \nL 3328 4442 \nL 3328 3968 \nz\n\" transform=\"scale(0.015625)\"/>\n       </defs>\n       <use xlink:href=\"#TeXGyreHeros-Regular-30\"/>\n       <use xlink:href=\"#TeXGyreHeros-Regular-2e\" x=\"55.599991\"/>\n       <use xlink:href=\"#TeXGyreHeros-Regular-37\" x=\"83.399979\"/>\n      </g>\n     </g>\n    </g>\n    <g id=\"ytick_6\">\n     <g id=\"line2d_40\">\n      <path d=\"M 48.229188 71.185057 \nL 438.829188 71.185057 \n\" clip-path=\"url(#pd9a88ad95f)\" style=\"fill: none; stroke: #000000; stroke-opacity: 0.11; stroke-width: 0.6; stroke-linecap: square\"/>\n     </g>\n     <g id=\"line2d_41\">\n      <g>\n       <use xlink:href=\"#me6b21774c6\" x=\"48.229188\" y=\"71.185057\" style=\"stroke: #000000; stroke-width: 0.6\"/>\n      </g>\n     </g>\n     <g id=\"text_12\">\n      <!-- 0.8 -->\n      <g transform=\"translate(29.720594 74.465838) scale(0.09 -0.09)\">\n       <defs>\n        <path id=\"TeXGyreHeros-Regular-38\" d=\"M 3283 1280 \nQ 3283 666 2857 285 \nQ 2432 -96 1760 -96 \nQ 1082 -96 659 285 \nQ 237 666 237 1286 \nQ 237 2016 1011 2387 \nQ 666 2605 531 2809 \nQ 397 3014 397 3328 \nQ 397 3859 777 4198 \nQ 1158 4538 1760 4538 \nQ 2362 4538 2742 4198 \nQ 3123 3859 3123 3328 \nQ 3123 3008 2988 2803 \nQ 2854 2598 2502 2387 \nQ 3283 2016 3283 1280 \nz\nM 2547 3315 \nQ 2547 3648 2332 3843 \nQ 2118 4038 1760 4038 \nQ 1402 4038 1187 3843 \nQ 973 3648 973 3322 \nQ 973 3002 1187 2806 \nQ 1402 2611 1760 2611 \nQ 2112 2611 2329 2803 \nQ 2547 2995 2547 3315 \nz\nM 2707 1274 \nQ 2707 1670 2448 1904 \nQ 2189 2138 1760 2138 \nQ 1331 2138 1072 1904 \nQ 813 1670 813 1273 \nQ 813 877 1072 640 \nQ 1331 403 1747 403 \nQ 2182 403 2444 636 \nQ 2707 870 2707 1274 \nz\n\" transform=\"scale(0.015625)\"/>\n       </defs>\n       <use xlink:href=\"#TeXGyreHeros-Regular-30\"/>\n       <use xlink:href=\"#TeXGyreHeros-Regular-2e\" x=\"55.599991\"/>\n       <use xlink:href=\"#TeXGyreHeros-Regular-38\" x=\"83.399979\"/>\n      </g>\n     </g>\n    </g>\n    <g id=\"ytick_7\">\n     <g id=\"line2d_42\">\n      <path d=\"M 48.229188 48.834169 \nL 438.829188 48.834169 \n\" clip-path=\"url(#pd9a88ad95f)\" style=\"fill: none; stroke: #000000; stroke-opacity: 0.11; stroke-width: 0.6; stroke-linecap: square\"/>\n     </g>\n     <g id=\"line2d_43\">\n      <g>\n       <use xlink:href=\"#me6b21774c6\" x=\"48.229188\" y=\"48.834169\" style=\"stroke: #000000; stroke-width: 0.6\"/>\n      </g>\n     </g>\n     <g id=\"text_13\">\n      <!-- 0.9 -->\n      <g transform=\"translate(29.720594 52.11495) scale(0.09 -0.09)\">\n       <defs>\n        <path id=\"TeXGyreHeros-Regular-39\" d=\"M 3258 2374 \nQ 3258 1190 2838 547 \nQ 2419 -96 1626 -96 \nQ 1107 -96 764 217 \nQ 422 531 339 1088 \nL 902 1088 \nQ 973 762 1171 582 \nQ 1370 403 1664 403 \nQ 2150 403 2409 848 \nQ 2669 1293 2675 2125 \nQ 2253 1619 1638 1619 \nQ 1024 1619 633 2009 \nQ 243 2400 243 3034 \nQ 243 3699 659 4118 \nQ 1075 4538 1728 4538 \nQ 3258 4538 3258 2374 \nz\nM 2643 3046 \nQ 2643 3482 2380 3763 \nQ 2118 4045 1722 4045 \nQ 1331 4045 1075 3776 \nQ 819 3507 819 3078 \nQ 819 2624 1056 2371 \nQ 1293 2118 1702 2118 \nQ 2118 2118 2380 2374 \nQ 2643 2630 2643 3046 \nz\n\" transform=\"scale(0.015625)\"/>\n       </defs>\n       <use xlink:href=\"#TeXGyreHeros-Regular-30\"/>\n       <use xlink:href=\"#TeXGyreHeros-Regular-2e\" x=\"55.599991\"/>\n       <use xlink:href=\"#TeXGyreHeros-Regular-39\" x=\"83.399979\"/>\n      </g>\n     </g>\n    </g>\n    <g id=\"ytick_8\">\n     <g id=\"line2d_44\">\n      <path d=\"M 48.229188 26.483281 \nL 438.829188 26.483281 \n\" clip-path=\"url(#pd9a88ad95f)\" style=\"fill: none; stroke: #000000; stroke-opacity: 0.11; stroke-width: 0.6; stroke-linecap: square\"/>\n     </g>\n     <g id=\"line2d_45\">\n      <g>\n       <use xlink:href=\"#me6b21774c6\" x=\"48.229188\" y=\"26.483281\" style=\"stroke: #000000; stroke-width: 0.6\"/>\n      </g>\n     </g>\n     <g id=\"text_14\">\n      <!-- 1.0 -->\n      <g transform=\"translate(29.720594 29.764062) scale(0.09 -0.09)\">\n       <use xlink:href=\"#TeXGyreHeros-Regular-31\"/>\n       <use xlink:href=\"#TeXGyreHeros-Regular-2e\" x=\"55.599991\"/>\n       <use xlink:href=\"#TeXGyreHeros-Regular-30\" x=\"83.399979\"/>\n      </g>\n     </g>\n    </g>\n    <g id=\"ytick_9\">\n     <g id=\"line2d_46\">\n      <defs>\n       <path id=\"m2ab8849380\" d=\"M 0 0 \nL -2 0 \n\" style=\"stroke: #000000; stroke-width: 0.48\"/>\n      </defs>\n      <g>\n       <use xlink:href=\"#m2ab8849380\" x=\"48.229188\" y=\"178.469319\" style=\"stroke: #000000; stroke-width: 0.48\"/>\n      </g>\n     </g>\n    </g>\n    <g id=\"ytick_10\">\n     <g id=\"line2d_47\">\n      <g>\n       <use xlink:href=\"#m2ab8849380\" x=\"48.229188\" y=\"173.999142\" style=\"stroke: #000000; stroke-width: 0.48\"/>\n      </g>\n     </g>\n    </g>\n    <g id=\"ytick_11\">\n     <g id=\"line2d_48\">\n      <g>\n       <use xlink:href=\"#m2ab8849380\" x=\"48.229188\" y=\"169.528964\" style=\"stroke: #000000; stroke-width: 0.48\"/>\n      </g>\n     </g>\n    </g>\n    <g id=\"ytick_12\">\n     <g id=\"line2d_49\">\n      <g>\n       <use xlink:href=\"#m2ab8849380\" x=\"48.229188\" y=\"165.058787\" style=\"stroke: #000000; stroke-width: 0.48\"/>\n      </g>\n     </g>\n    </g>\n    <g id=\"ytick_13\">\n     <g id=\"line2d_50\">\n      <g>\n       <use xlink:href=\"#m2ab8849380\" x=\"48.229188\" y=\"156.118432\" style=\"stroke: #000000; stroke-width: 0.48\"/>\n      </g>\n     </g>\n    </g>\n    <g id=\"ytick_14\">\n     <g id=\"line2d_51\">\n      <g>\n       <use xlink:href=\"#m2ab8849380\" x=\"48.229188\" y=\"151.648254\" style=\"stroke: #000000; stroke-width: 0.48\"/>\n      </g>\n     </g>\n    </g>\n    <g id=\"ytick_15\">\n     <g id=\"line2d_52\">\n      <g>\n       <use xlink:href=\"#m2ab8849380\" x=\"48.229188\" y=\"147.178076\" style=\"stroke: #000000; stroke-width: 0.48\"/>\n      </g>\n     </g>\n    </g>\n    <g id=\"ytick_16\">\n     <g id=\"line2d_53\">\n      <g>\n       <use xlink:href=\"#m2ab8849380\" x=\"48.229188\" y=\"142.707899\" style=\"stroke: #000000; stroke-width: 0.48\"/>\n      </g>\n     </g>\n    </g>\n    <g id=\"ytick_17\">\n     <g id=\"line2d_54\">\n      <g>\n       <use xlink:href=\"#m2ab8849380\" x=\"48.229188\" y=\"133.767544\" style=\"stroke: #000000; stroke-width: 0.48\"/>\n      </g>\n     </g>\n    </g>\n    <g id=\"ytick_18\">\n     <g id=\"line2d_55\">\n      <g>\n       <use xlink:href=\"#m2ab8849380\" x=\"48.229188\" y=\"129.297366\" style=\"stroke: #000000; stroke-width: 0.48\"/>\n      </g>\n     </g>\n    </g>\n    <g id=\"ytick_19\">\n     <g id=\"line2d_56\">\n      <g>\n       <use xlink:href=\"#m2ab8849380\" x=\"48.229188\" y=\"124.827188\" style=\"stroke: #000000; stroke-width: 0.48\"/>\n      </g>\n     </g>\n    </g>\n    <g id=\"ytick_20\">\n     <g id=\"line2d_57\">\n      <g>\n       <use xlink:href=\"#m2ab8849380\" x=\"48.229188\" y=\"120.357011\" style=\"stroke: #000000; stroke-width: 0.48\"/>\n      </g>\n     </g>\n    </g>\n    <g id=\"ytick_21\">\n     <g id=\"line2d_58\">\n      <g>\n       <use xlink:href=\"#m2ab8849380\" x=\"48.229188\" y=\"111.416656\" style=\"stroke: #000000; stroke-width: 0.48\"/>\n      </g>\n     </g>\n    </g>\n    <g id=\"ytick_22\">\n     <g id=\"line2d_59\">\n      <g>\n       <use xlink:href=\"#m2ab8849380\" x=\"48.229188\" y=\"106.946478\" style=\"stroke: #000000; stroke-width: 0.48\"/>\n      </g>\n     </g>\n    </g>\n    <g id=\"ytick_23\">\n     <g id=\"line2d_60\">\n      <g>\n       <use xlink:href=\"#m2ab8849380\" x=\"48.229188\" y=\"102.4763\" style=\"stroke: #000000; stroke-width: 0.48\"/>\n      </g>\n     </g>\n    </g>\n    <g id=\"ytick_24\">\n     <g id=\"line2d_61\">\n      <g>\n       <use xlink:href=\"#m2ab8849380\" x=\"48.229188\" y=\"98.006123\" style=\"stroke: #000000; stroke-width: 0.48\"/>\n      </g>\n     </g>\n    </g>\n    <g id=\"ytick_25\">\n     <g id=\"line2d_62\">\n      <g>\n       <use xlink:href=\"#m2ab8849380\" x=\"48.229188\" y=\"89.065768\" style=\"stroke: #000000; stroke-width: 0.48\"/>\n      </g>\n     </g>\n    </g>\n    <g id=\"ytick_26\">\n     <g id=\"line2d_63\">\n      <g>\n       <use xlink:href=\"#m2ab8849380\" x=\"48.229188\" y=\"84.59559\" style=\"stroke: #000000; stroke-width: 0.48\"/>\n      </g>\n     </g>\n    </g>\n    <g id=\"ytick_27\">\n     <g id=\"line2d_64\">\n      <g>\n       <use xlink:href=\"#m2ab8849380\" x=\"48.229188\" y=\"80.125412\" style=\"stroke: #000000; stroke-width: 0.48\"/>\n      </g>\n     </g>\n    </g>\n    <g id=\"ytick_28\">\n     <g id=\"line2d_65\">\n      <g>\n       <use xlink:href=\"#m2ab8849380\" x=\"48.229188\" y=\"75.655235\" style=\"stroke: #000000; stroke-width: 0.48\"/>\n      </g>\n     </g>\n    </g>\n    <g id=\"ytick_29\">\n     <g id=\"line2d_66\">\n      <g>\n       <use xlink:href=\"#m2ab8849380\" x=\"48.229188\" y=\"66.71488\" style=\"stroke: #000000; stroke-width: 0.48\"/>\n      </g>\n     </g>\n    </g>\n    <g id=\"ytick_30\">\n     <g id=\"line2d_67\">\n      <g>\n       <use xlink:href=\"#m2ab8849380\" x=\"48.229188\" y=\"62.244702\" style=\"stroke: #000000; stroke-width: 0.48\"/>\n      </g>\n     </g>\n    </g>\n    <g id=\"ytick_31\">\n     <g id=\"line2d_68\">\n      <g>\n       <use xlink:href=\"#m2ab8849380\" x=\"48.229188\" y=\"57.774524\" style=\"stroke: #000000; stroke-width: 0.48\"/>\n      </g>\n     </g>\n    </g>\n    <g id=\"ytick_32\">\n     <g id=\"line2d_69\">\n      <g>\n       <use xlink:href=\"#m2ab8849380\" x=\"48.229188\" y=\"53.304347\" style=\"stroke: #000000; stroke-width: 0.48\"/>\n      </g>\n     </g>\n    </g>\n    <g id=\"ytick_33\">\n     <g id=\"line2d_70\">\n      <g>\n       <use xlink:href=\"#m2ab8849380\" x=\"48.229188\" y=\"44.363992\" style=\"stroke: #000000; stroke-width: 0.48\"/>\n      </g>\n     </g>\n    </g>\n    <g id=\"ytick_34\">\n     <g id=\"line2d_71\">\n      <g>\n       <use xlink:href=\"#m2ab8849380\" x=\"48.229188\" y=\"39.893814\" style=\"stroke: #000000; stroke-width: 0.48\"/>\n      </g>\n     </g>\n    </g>\n    <g id=\"ytick_35\">\n     <g id=\"line2d_72\">\n      <g>\n       <use xlink:href=\"#m2ab8849380\" x=\"48.229188\" y=\"35.423636\" style=\"stroke: #000000; stroke-width: 0.48\"/>\n      </g>\n     </g>\n    </g>\n    <g id=\"ytick_36\">\n     <g id=\"line2d_73\">\n      <g>\n       <use xlink:href=\"#m2ab8849380\" x=\"48.229188\" y=\"30.953459\" style=\"stroke: #000000; stroke-width: 0.48\"/>\n      </g>\n     </g>\n    </g>\n    <g id=\"ytick_37\">\n     <g id=\"line2d_74\">\n      <g>\n       <use xlink:href=\"#m2ab8849380\" x=\"48.229188\" y=\"22.013104\" style=\"stroke: #000000; stroke-width: 0.48\"/>\n      </g>\n     </g>\n    </g>\n    <g id=\"text_15\">\n     <!-- Cumulative proportion of total variance captured -->\n     <g transform=\"translate(13.923281 197.867188) rotate(-90) scale(0.09 -0.09)\">\n      <defs>\n       <path id=\"TeXGyreHeros-Regular-6c\" d=\"M 966 0 \nL 435 0 \nL 435 4666 \nL 966 4666 \nL 966 0 \nz\n\" transform=\"scale(0.015625)\"/>\n       <path id=\"TeXGyreHeros-Regular-69\" d=\"M 979 0 \nL 448 0 \nL 448 3354 \nL 979 3354 \nL 979 0 \nz\nM 1050 3859 \nL 384 3859 \nL 384 4525 \nL 1050 4525 \nL 1050 3859 \nz\n\" transform=\"scale(0.015625)\"/>\n       <path id=\"TeXGyreHeros-Regular-76\" d=\"M 3110 3354 \nL 1824 0 \nL 1242 0 \nL 64 3354 \nL 666 3354 \nL 1562 634 \nL 2509 3354 \nL 3110 3354 \nz\n\" transform=\"scale(0.015625)\"/>\n       <path id=\"TeXGyreHeros-Regular-70\" d=\"M 3347 1645 \nQ 3347 845 2956 374 \nQ 2566 -96 1914 -96 \nQ 1293 -96 883 403 \nL 883 -1395 \nL 352 -1395 \nL 352 3354 \nL 838 3354 \nL 838 2848 \nQ 1216 3450 1907 3450 \nQ 2579 3450 2963 2970 \nQ 3347 2490 3347 1645 \nz\nM 2790 1658 \nQ 2790 2253 2524 2601 \nQ 2259 2950 1818 2950 \nQ 1395 2950 1139 2595 \nQ 883 2240 883 1651 \nQ 883 1069 1136 736 \nQ 1389 403 1818 403 \nQ 2253 403 2521 745 \nQ 2790 1088 2790 1658 \nz\n\" transform=\"scale(0.015625)\"/>\n       <path id=\"TeXGyreHeros-Regular-6e\" d=\"M 3117 0 \nL 2586 0 \nL 2586 2323 \nQ 2586 2624 2400 2803 \nQ 2214 2982 1894 2982 \nQ 1485 2982 1232 2672 \nQ 979 2362 979 1850 \nL 979 0 \nL 448 0 \nL 448 3354 \nL 941 3354 \nL 941 2790 \nQ 1165 3142 1424 3296 \nQ 1683 3450 2054 3450 \nQ 2541 3450 2829 3200 \nQ 3117 2950 3117 2534 \nL 3117 0 \nz\n\" transform=\"scale(0.015625)\"/>\n       <path id=\"TeXGyreHeros-Regular-63\" d=\"M 3053 1152 \nQ 3002 570 2640 237 \nQ 2278 -96 1683 -96 \nQ 998 -96 598 371 \nQ 198 838 198 1645 \nQ 198 2477 604 2963 \nQ 1011 3450 1690 3450 \nQ 2266 3450 2618 3139 \nQ 2970 2829 3014 2227 \nL 2477 2227 \nQ 2426 2579 2221 2768 \nQ 2016 2957 1683 2957 \nQ 1242 2957 998 2614 \nQ 755 2272 755 1645 \nQ 755 1050 1004 723 \nQ 1254 397 1696 397 \nQ 2042 397 2246 576 \nQ 2451 755 2515 1152 \nL 3053 1152 \nz\n\" transform=\"scale(0.015625)\"/>\n      </defs>\n      <use xlink:href=\"#TeXGyreHeros-Regular-43\"/>\n      <use xlink:href=\"#TeXGyreHeros-Regular-75\" x=\"72.199982\"/>\n      <use xlink:href=\"#TeXGyreHeros-Regular-6d\" x=\"127.799973\"/>\n      <use xlink:href=\"#TeXGyreHeros-Regular-75\" x=\"211.09996\"/>\n      <use xlink:href=\"#TeXGyreHeros-Regular-6c\" x=\"266.699951\"/>\n      <use xlink:href=\"#TeXGyreHeros-Regular-61\" x=\"288.899948\"/>\n      <use xlink:href=\"#TeXGyreHeros-Regular-74\" x=\"344.499939\"/>\n      <use xlink:href=\"#TeXGyreHeros-Regular-69\" x=\"372.299927\"/>\n      <use xlink:href=\"#TeXGyreHeros-Regular-76\" x=\"394.499924\"/>\n      <use xlink:href=\"#TeXGyreHeros-Regular-65\" x=\"444.499908\"/>\n      <use xlink:href=\"#TeXGyreHeros-Regular-20\" x=\"500.099899\"/>\n      <use xlink:href=\"#TeXGyreHeros-Regular-70\" x=\"527.899887\"/>\n      <use xlink:href=\"#TeXGyreHeros-Regular-72\" x=\"583.499878\"/>\n      <use xlink:href=\"#TeXGyreHeros-Regular-6f\" x=\"616.799866\"/>\n      <use xlink:href=\"#TeXGyreHeros-Regular-70\" x=\"672.399857\"/>\n      <use xlink:href=\"#TeXGyreHeros-Regular-6f\" x=\"727.999847\"/>\n      <use xlink:href=\"#TeXGyreHeros-Regular-72\" x=\"783.599838\"/>\n      <use xlink:href=\"#TeXGyreHeros-Regular-74\" x=\"816.899826\"/>\n      <use xlink:href=\"#TeXGyreHeros-Regular-69\" x=\"844.699814\"/>\n      <use xlink:href=\"#TeXGyreHeros-Regular-6f\" x=\"866.899811\"/>\n      <use xlink:href=\"#TeXGyreHeros-Regular-6e\" x=\"922.499802\"/>\n      <use xlink:href=\"#TeXGyreHeros-Regular-20\" x=\"978.099792\"/>\n      <use xlink:href=\"#TeXGyreHeros-Regular-6f\" x=\"1005.89978\"/>\n      <use xlink:href=\"#TeXGyreHeros-Regular-66\" x=\"1061.499771\"/>\n      <use xlink:href=\"#TeXGyreHeros-Regular-20\" x=\"1089.299759\"/>\n      <use xlink:href=\"#TeXGyreHeros-Regular-74\" x=\"1117.099747\"/>\n      <use xlink:href=\"#TeXGyreHeros-Regular-6f\" x=\"1144.899734\"/>\n      <use xlink:href=\"#TeXGyreHeros-Regular-74\" x=\"1200.499725\"/>\n      <use xlink:href=\"#TeXGyreHeros-Regular-61\" x=\"1228.299713\"/>\n      <use xlink:href=\"#TeXGyreHeros-Regular-6c\" x=\"1283.899704\"/>\n      <use xlink:href=\"#TeXGyreHeros-Regular-20\" x=\"1306.099701\"/>\n      <use xlink:href=\"#TeXGyreHeros-Regular-76\" x=\"1333.899689\"/>\n      <use xlink:href=\"#TeXGyreHeros-Regular-61\" x=\"1383.899673\"/>\n      <use xlink:href=\"#TeXGyreHeros-Regular-72\" x=\"1439.499664\"/>\n      <use xlink:href=\"#TeXGyreHeros-Regular-69\" x=\"1472.799652\"/>\n      <use xlink:href=\"#TeXGyreHeros-Regular-61\" x=\"1494.999649\"/>\n      <use xlink:href=\"#TeXGyreHeros-Regular-6e\" x=\"1550.59964\"/>\n      <use xlink:href=\"#TeXGyreHeros-Regular-63\" x=\"1606.199631\"/>\n      <use xlink:href=\"#TeXGyreHeros-Regular-65\" x=\"1656.199615\"/>\n      <use xlink:href=\"#TeXGyreHeros-Regular-20\" x=\"1711.799606\"/>\n      <use xlink:href=\"#TeXGyreHeros-Regular-63\" x=\"1739.599594\"/>\n      <use xlink:href=\"#TeXGyreHeros-Regular-61\" x=\"1789.599579\"/>\n      <use xlink:href=\"#TeXGyreHeros-Regular-70\" x=\"1845.19957\"/>\n      <use xlink:href=\"#TeXGyreHeros-Regular-74\" x=\"1900.799561\"/>\n      <use xlink:href=\"#TeXGyreHeros-Regular-75\" x=\"1928.599548\"/>\n      <use xlink:href=\"#TeXGyreHeros-Regular-72\" x=\"1984.199539\"/>\n      <use xlink:href=\"#TeXGyreHeros-Regular-65\" x=\"2017.499527\"/>\n      <use xlink:href=\"#TeXGyreHeros-Regular-64\" x=\"2073.099518\"/>\n     </g>\n     <!-- (Dashed Lines) -->\n     <g transform=\"translate(23.758875 132.591172) rotate(-90) scale(0.09 -0.09)\">\n      <defs>\n       <path id=\"TeXGyreHeros-Regular-28\" d=\"M 1862 -1357 \nL 1510 -1357 \nQ 1030 -730 748 86 \nQ 467 902 467 1657 \nQ 467 2413 748 3225 \nQ 1030 4038 1510 4666 \nL 1862 4666 \nQ 986 3251 986 1658 \nQ 986 70 1862 -1357 \nz\n\" transform=\"scale(0.015625)\"/>\n       <path id=\"TeXGyreHeros-Regular-44\" d=\"M 3763 4045 \nQ 4269 3424 4269 2336 \nQ 4269 1248 3760 624 \nQ 3251 0 2368 0 \nL 570 0 \nL 570 4666 \nL 2368 4666 \nQ 3258 4666 3763 4045 \nz\nM 3674 2330 \nQ 3674 3219 3315 3680 \nQ 2957 4141 2266 4141 \nL 1165 4141 \nL 1165 525 \nL 2266 525 \nQ 2957 525 3315 985 \nQ 3674 1446 3674 2330 \nz\n\" transform=\"scale(0.015625)\"/>\n       <path id=\"TeXGyreHeros-Regular-68\" d=\"M 3110 0 \nL 2579 0 \nL 2579 2323 \nQ 2579 2643 2384 2812 \nQ 2189 2982 1888 2982 \nQ 1478 2982 1228 2672 \nQ 979 2362 979 1850 \nL 979 0 \nL 448 0 \nL 448 4666 \nL 979 4666 \nL 979 2893 \nQ 1216 3200 1456 3325 \nQ 1696 3450 2054 3450 \nQ 2541 3450 2825 3203 \nQ 3110 2957 3110 2534 \nL 3110 0 \nz\n\" transform=\"scale(0.015625)\"/>\n       <path id=\"TeXGyreHeros-Regular-4c\" d=\"M 3411 0 \nL 512 0 \nL 512 4666 \nL 1107 4666 \nL 1107 525 \nL 3411 525 \nL 3411 0 \nz\n\" transform=\"scale(0.015625)\"/>\n       <path id=\"TeXGyreHeros-Regular-29\" d=\"M 1356 3222 \nQ 1638 2406 1638 1651 \nQ 1638 896 1356 83 \nQ 1075 -730 595 -1357 \nL 243 -1357 \nQ 1120 58 1120 1651 \nQ 1120 3238 243 4666 \nL 595 4666 \nQ 1075 4038 1356 3222 \nz\n\" transform=\"scale(0.015625)\"/>\n      </defs>\n      <use xlink:href=\"#TeXGyreHeros-Regular-28\"/>\n      <use xlink:href=\"#TeXGyreHeros-Regular-44\" x=\"33.299988\"/>\n      <use xlink:href=\"#TeXGyreHeros-Regular-61\" x=\"105.499969\"/>\n      <use xlink:href=\"#TeXGyreHeros-Regular-73\" x=\"161.09996\"/>\n      <use xlink:href=\"#TeXGyreHeros-Regular-68\" x=\"211.099945\"/>\n      <use xlink:href=\"#TeXGyreHeros-Regular-65\" x=\"266.699936\"/>\n      <use xlink:href=\"#TeXGyreHeros-Regular-64\" x=\"322.299927\"/>\n      <use xlink:href=\"#TeXGyreHeros-Regular-20\" x=\"377.899918\"/>\n      <use xlink:href=\"#TeXGyreHeros-Regular-4c\" x=\"405.699905\"/>\n      <use xlink:href=\"#TeXGyreHeros-Regular-69\" x=\"461.299896\"/>\n      <use xlink:href=\"#TeXGyreHeros-Regular-6e\" x=\"483.499893\"/>\n      <use xlink:href=\"#TeXGyreHeros-Regular-65\" x=\"539.099884\"/>\n      <use xlink:href=\"#TeXGyreHeros-Regular-73\" x=\"594.699875\"/>\n      <use xlink:href=\"#TeXGyreHeros-Regular-29\" x=\"644.69986\"/>\n     </g>\n    </g>\n   </g>\n   <g id=\"line2d_75\">\n    <path d=\"M 65.983733 138.237721 \n\" clip-path=\"url(#pd9a88ad95f)\" style=\"fill: none; stroke-dasharray: 5.55,2.4; stroke-dashoffset: 0; stroke: #000000; stroke-width: 1.5\"/>\n   </g>\n   <g id=\"line2d_76\">\n    <path d=\"M 65.983733 138.237721 \n\" clip-path=\"url(#pd9a88ad95f)\" style=\"fill: none; stroke: #000000; stroke-width: 1.5; stroke-linecap: square\"/>\n   </g>\n   <g id=\"line2d_77\">\n    <path d=\"M 65.983733 174.520572 \nL 67.61259 132.524279 \nL 69.241448 96.470595 \nL 70.870305 71.681976 \nL 72.499162 48.427093 \nL 74.12802 36.087681 \nL 75.756877 27.686466 \nL 77.385735 26.489078 \nL 79.014592 26.483281 \n\" clip-path=\"url(#pd9a88ad95f)\" style=\"fill: none; stroke-dasharray: 5.55,2.4; stroke-dashoffset: 0; stroke: #1f77b4; stroke-width: 1.5\"/>\n   </g>\n   <g id=\"line2d_78\">\n    <path d=\"M 65.983733 177.04686 \nL 67.61259 129.518361 \nL 69.241448 93.745668 \nL 70.870305 62.244199 \nL 72.499162 47.854238 \nL 74.12802 37.769632 \nL 75.756877 32.255518 \nL 77.385735 31.002003 \nL 79.014592 30.00501 \nL 80.643449 29.376085 \nL 82.272307 28.846029 \nL 83.901164 28.368744 \nL 85.530022 28.098346 \nL 87.158879 27.85478 \nL 88.787736 27.624785 \nL 90.416594 27.411298 \nL 92.045451 27.226477 \nL 93.674308 27.052301 \nL 95.303166 26.908474 \nL 96.932023 26.773957 \nL 98.560881 26.66037 \nL 100.189738 26.582762 \nL 101.818595 26.542422 \nL 103.447453 26.527157 \nL 105.07631 26.517018 \nL 106.705167 26.50806 \nL 108.334025 26.502063 \nL 109.962882 26.497686 \nL 111.59174 26.494039 \nL 113.220597 26.491066 \nL 114.849454 26.488469 \nL 116.478312 26.486574 \nL 118.107169 26.485064 \nL 119.736027 26.484247 \nL 121.364884 26.483659 \nL 122.993741 26.483369 \nL 124.622599 26.483289 \nL 126.251456 26.483286 \nL 127.880313 26.483284 \nL 129.509171 26.483283 \nL 131.138028 26.483283 \nL 132.766886 26.483282 \nL 134.395743 26.483282 \nL 136.0246 26.483282 \nL 137.653458 26.483281 \nL 139.282315 26.483281 \nL 140.911172 26.483281 \nL 142.54003 26.483281 \nL 144.168887 26.483281 \nL 145.797745 26.483281 \nL 147.426602 26.483281 \nL 149.055459 26.483281 \nL 150.684317 26.483281 \nL 152.313174 26.483281 \n\" clip-path=\"url(#pd9a88ad95f)\" style=\"fill: none; stroke-dasharray: 5.55,2.4; stroke-dashoffset: 0; stroke: #ff7f0e; stroke-width: 1.5\"/>\n   </g>\n   <g id=\"line2d_79\">\n    <path d=\"M 65.983733 177.683281 \nL 67.61259 127.19499 \nL 69.241448 91.52896 \nL 70.870305 60.217075 \nL 72.499162 46.303609 \nL 74.12802 40.065238 \nL 75.756877 37.455116 \nL 77.385735 35.435842 \nL 79.014592 33.982128 \nL 82.272307 31.748268 \nL 83.901164 30.854574 \nL 87.158879 29.759029 \nL 93.674308 27.998297 \nL 98.560881 27.103021 \nL 101.818595 26.825854 \nL 113.220597 26.653191 \nL 142.54003 26.523303 \nL 214.209755 26.483512 \nL 421.074642 26.483281 \nL 421.074642 26.483281 \n\" clip-path=\"url(#pd9a88ad95f)\" style=\"fill: none; stroke-dasharray: 5.55,2.4; stroke-dashoffset: 0; stroke: #2ca02c; stroke-width: 1.5\"/>\n   </g>\n   <g id=\"patch_3\">\n    <path d=\"M 48.229188 185.243281 \nL 48.229188 18.923281 \n\" style=\"fill: none; stroke: #000000; stroke-width: 0.6; stroke-linejoin: miter; stroke-linecap: square\"/>\n   </g>\n   <g id=\"patch_4\">\n    <path d=\"M 438.829188 185.243281 \nL 438.829188 18.923281 \n\" style=\"fill: none; stroke: #000000; stroke-width: 0.6; stroke-linejoin: miter; stroke-linecap: square\"/>\n   </g>\n   <g id=\"patch_5\">\n    <path d=\"M 48.229188 185.243281 \nL 438.829188 185.243281 \n\" style=\"fill: none; stroke: #000000; stroke-width: 0.6; stroke-linejoin: miter; stroke-linecap: square\"/>\n   </g>\n   <g id=\"patch_6\">\n    <path d=\"M 48.229188 18.923281 \nL 438.829188 18.923281 \n\" style=\"fill: none; stroke: #000000; stroke-width: 0.6; stroke-linejoin: miter; stroke-linecap: square\"/>\n   </g>\n   <g id=\"text_16\">\n    <!-- Effectiveness of PCA applied to model order reduction -->\n    <g transform=\"translate(135.487 13.923281) scale(0.09 -0.09)\">\n     <defs>\n      <path id=\"TeXGyreHeros-Regular-45\" d=\"M 3923 0 \nL 576 0 \nL 576 4666 \nL 3808 4666 \nL 3808 4141 \nL 1171 4141 \nL 1171 2650 \nL 3712 2650 \nL 3712 2125 \nL 1171 2125 \nL 1171 525 \nL 3923 525 \nL 3923 0 \nz\n\" transform=\"scale(0.015625)\"/>\n      <path id=\"TeXGyreHeros-Regular-41\" d=\"M 4179 0 \nL 3514 0 \nL 3034 1402 \nL 1235 1402 \nL 742 0 \nL 109 0 \nL 1773 4666 \nL 2541 4666 \nL 4179 0 \nz\nM 2867 1901 \nL 2150 4026 \nL 1382 1901 \nL 2867 1901 \nz\n\" transform=\"scale(0.015625)\"/>\n     </defs>\n     <use xlink:href=\"#TeXGyreHeros-Regular-45\"/>\n     <use xlink:href=\"#TeXGyreHeros-Regular-66\" x=\"66.699997\"/>\n     <use xlink:href=\"#TeXGyreHeros-Regular-66\" x=\"94.499985\"/>\n     <use xlink:href=\"#TeXGyreHeros-Regular-65\" x=\"122.299973\"/>\n     <use xlink:href=\"#TeXGyreHeros-Regular-63\" x=\"177.899963\"/>\n     <use xlink:href=\"#TeXGyreHeros-Regular-74\" x=\"227.899948\"/>\n     <use xlink:href=\"#TeXGyreHeros-Regular-69\" x=\"255.699936\"/>\n     <use xlink:href=\"#TeXGyreHeros-Regular-76\" x=\"277.899933\"/>\n     <use xlink:href=\"#TeXGyreHeros-Regular-65\" x=\"327.899918\"/>\n     <use xlink:href=\"#TeXGyreHeros-Regular-6e\" x=\"383.499908\"/>\n     <use xlink:href=\"#TeXGyreHeros-Regular-65\" x=\"439.099899\"/>\n     <use xlink:href=\"#TeXGyreHeros-Regular-73\" x=\"494.69989\"/>\n     <use xlink:href=\"#TeXGyreHeros-Regular-73\" x=\"544.699875\"/>\n     <use xlink:href=\"#TeXGyreHeros-Regular-20\" x=\"594.69986\"/>\n     <use xlink:href=\"#TeXGyreHeros-Regular-6f\" x=\"622.499847\"/>\n     <use xlink:href=\"#TeXGyreHeros-Regular-66\" x=\"678.099838\"/>\n     <use xlink:href=\"#TeXGyreHeros-Regular-20\" x=\"705.899826\"/>\n     <use xlink:href=\"#TeXGyreHeros-Regular-50\" x=\"733.699814\"/>\n     <use xlink:href=\"#TeXGyreHeros-Regular-43\" x=\"800.399811\"/>\n     <use xlink:href=\"#TeXGyreHeros-Regular-41\" x=\"872.599792\"/>\n     <use xlink:href=\"#TeXGyreHeros-Regular-20\" x=\"939.299789\"/>\n     <use xlink:href=\"#TeXGyreHeros-Regular-61\" x=\"967.099777\"/>\n     <use xlink:href=\"#TeXGyreHeros-Regular-70\" x=\"1022.699768\"/>\n     <use xlink:href=\"#TeXGyreHeros-Regular-70\" x=\"1078.299759\"/>\n     <use xlink:href=\"#TeXGyreHeros-Regular-6c\" x=\"1133.89975\"/>\n     <use xlink:href=\"#TeXGyreHeros-Regular-69\" x=\"1156.099747\"/>\n     <use xlink:href=\"#TeXGyreHeros-Regular-65\" x=\"1178.299744\"/>\n     <use xlink:href=\"#TeXGyreHeros-Regular-64\" x=\"1233.899734\"/>\n     <use xlink:href=\"#TeXGyreHeros-Regular-20\" x=\"1289.499725\"/>\n     <use xlink:href=\"#TeXGyreHeros-Regular-74\" x=\"1317.299713\"/>\n     <use xlink:href=\"#TeXGyreHeros-Regular-6f\" x=\"1345.099701\"/>\n     <use xlink:href=\"#TeXGyreHeros-Regular-20\" x=\"1400.699692\"/>\n     <use xlink:href=\"#TeXGyreHeros-Regular-6d\" x=\"1428.49968\"/>\n     <use xlink:href=\"#TeXGyreHeros-Regular-6f\" x=\"1511.799667\"/>\n     <use xlink:href=\"#TeXGyreHeros-Regular-64\" x=\"1567.399658\"/>\n     <use xlink:href=\"#TeXGyreHeros-Regular-65\" x=\"1622.999649\"/>\n     <use xlink:href=\"#TeXGyreHeros-Regular-6c\" x=\"1678.59964\"/>\n     <use xlink:href=\"#TeXGyreHeros-Regular-20\" x=\"1700.799637\"/>\n     <use xlink:href=\"#TeXGyreHeros-Regular-6f\" x=\"1728.599625\"/>\n     <use xlink:href=\"#TeXGyreHeros-Regular-72\" x=\"1784.199615\"/>\n     <use xlink:href=\"#TeXGyreHeros-Regular-64\" x=\"1817.499603\"/>\n     <use xlink:href=\"#TeXGyreHeros-Regular-65\" x=\"1873.099594\"/>\n     <use xlink:href=\"#TeXGyreHeros-Regular-72\" x=\"1928.699585\"/>\n     <use xlink:href=\"#TeXGyreHeros-Regular-20\" x=\"1961.999573\"/>\n     <use xlink:href=\"#TeXGyreHeros-Regular-72\" x=\"1989.799561\"/>\n     <use xlink:href=\"#TeXGyreHeros-Regular-65\" x=\"2023.099548\"/>\n     <use xlink:href=\"#TeXGyreHeros-Regular-64\" x=\"2078.699539\"/>\n     <use xlink:href=\"#TeXGyreHeros-Regular-75\" x=\"2134.29953\"/>\n     <use xlink:href=\"#TeXGyreHeros-Regular-63\" x=\"2189.899521\"/>\n     <use xlink:href=\"#TeXGyreHeros-Regular-74\" x=\"2239.899506\"/>\n     <use xlink:href=\"#TeXGyreHeros-Regular-69\" x=\"2267.699493\"/>\n     <use xlink:href=\"#TeXGyreHeros-Regular-6f\" x=\"2289.89949\"/>\n     <use xlink:href=\"#TeXGyreHeros-Regular-6e\" x=\"2345.499481\"/>\n    </g>\n   </g>\n  </g>\n  <g id=\"axes_2\">\n   <g id=\"matplotlib.axis_3\">\n    <g id=\"ytick_38\">\n     <g id=\"line2d_80\">\n      <path d=\"M 48.229188 165.649336 \nL 438.829188 165.649336 \n\" clip-path=\"url(#pd9a88ad95f)\" style=\"fill: none; stroke: #000000; stroke-opacity: 0.11; stroke-width: 0.6; stroke-linecap: square\"/>\n     </g>\n     <g id=\"line2d_81\">\n      <defs>\n       <path id=\"m4052f42ec1\" d=\"M 0 0 \nL 4 0 \n\" style=\"stroke: #000000; stroke-width: 0.6\"/>\n      </defs>\n      <g>\n       <use xlink:href=\"#m4052f42ec1\" x=\"438.829188\" y=\"165.649336\" style=\"stroke: #000000; stroke-width: 0.6\"/>\n      </g>\n     </g>\n     <g id=\"text_17\">\n      <!-- 60000 -->\n      <g transform=\"translate(444.829188 168.930117) scale(0.09 -0.09)\">\n       <use xlink:href=\"#TeXGyreHeros-Regular-36\"/>\n       <use xlink:href=\"#TeXGyreHeros-Regular-30\" x=\"55.599991\"/>\n       <use xlink:href=\"#TeXGyreHeros-Regular-30\" x=\"111.199982\"/>\n       <use xlink:href=\"#TeXGyreHeros-Regular-30\" x=\"166.799973\"/>\n       <use xlink:href=\"#TeXGyreHeros-Regular-30\" x=\"222.399963\"/>\n      </g>\n     </g>\n    </g>\n    <g id=\"ytick_39\">\n     <g id=\"line2d_82\">\n      <path d=\"M 48.229188 142.998181 \nL 438.829188 142.998181 \n\" clip-path=\"url(#pd9a88ad95f)\" style=\"fill: none; stroke: #000000; stroke-opacity: 0.11; stroke-width: 0.6; stroke-linecap: square\"/>\n     </g>\n     <g id=\"line2d_83\">\n      <g>\n       <use xlink:href=\"#m4052f42ec1\" x=\"438.829188\" y=\"142.998181\" style=\"stroke: #000000; stroke-width: 0.6\"/>\n      </g>\n     </g>\n     <g id=\"text_18\">\n      <!-- 70000 -->\n      <g transform=\"translate(444.829188 146.278962) scale(0.09 -0.09)\">\n       <use xlink:href=\"#TeXGyreHeros-Regular-37\"/>\n       <use xlink:href=\"#TeXGyreHeros-Regular-30\" x=\"55.599991\"/>\n       <use xlink:href=\"#TeXGyreHeros-Regular-30\" x=\"111.199982\"/>\n       <use xlink:href=\"#TeXGyreHeros-Regular-30\" x=\"166.799973\"/>\n       <use xlink:href=\"#TeXGyreHeros-Regular-30\" x=\"222.399963\"/>\n      </g>\n     </g>\n    </g>\n    <g id=\"ytick_40\">\n     <g id=\"line2d_84\">\n      <path d=\"M 48.229188 120.347026 \nL 438.829188 120.347026 \n\" clip-path=\"url(#pd9a88ad95f)\" style=\"fill: none; stroke: #000000; stroke-opacity: 0.11; stroke-width: 0.6; stroke-linecap: square\"/>\n     </g>\n     <g id=\"line2d_85\">\n      <g>\n       <use xlink:href=\"#m4052f42ec1\" x=\"438.829188\" y=\"120.347026\" style=\"stroke: #000000; stroke-width: 0.6\"/>\n      </g>\n     </g>\n     <g id=\"text_19\">\n      <!-- 80000 -->\n      <g transform=\"translate(444.829188 123.627808) scale(0.09 -0.09)\">\n       <use xlink:href=\"#TeXGyreHeros-Regular-38\"/>\n       <use xlink:href=\"#TeXGyreHeros-Regular-30\" x=\"55.599991\"/>\n       <use xlink:href=\"#TeXGyreHeros-Regular-30\" x=\"111.199982\"/>\n       <use xlink:href=\"#TeXGyreHeros-Regular-30\" x=\"166.799973\"/>\n       <use xlink:href=\"#TeXGyreHeros-Regular-30\" x=\"222.399963\"/>\n      </g>\n     </g>\n    </g>\n    <g id=\"ytick_41\">\n     <g id=\"line2d_86\">\n      <path d=\"M 48.229188 97.695872 \nL 438.829188 97.695872 \n\" clip-path=\"url(#pd9a88ad95f)\" style=\"fill: none; stroke: #000000; stroke-opacity: 0.11; stroke-width: 0.6; stroke-linecap: square\"/>\n     </g>\n     <g id=\"line2d_87\">\n      <g>\n       <use xlink:href=\"#m4052f42ec1\" x=\"438.829188\" y=\"97.695872\" style=\"stroke: #000000; stroke-width: 0.6\"/>\n      </g>\n     </g>\n     <g id=\"text_20\">\n      <!-- 90000 -->\n      <g transform=\"translate(444.829188 100.976653) scale(0.09 -0.09)\">\n       <use xlink:href=\"#TeXGyreHeros-Regular-39\"/>\n       <use xlink:href=\"#TeXGyreHeros-Regular-30\" x=\"55.599991\"/>\n       <use xlink:href=\"#TeXGyreHeros-Regular-30\" x=\"111.199982\"/>\n       <use xlink:href=\"#TeXGyreHeros-Regular-30\" x=\"166.799973\"/>\n       <use xlink:href=\"#TeXGyreHeros-Regular-30\" x=\"222.399963\"/>\n      </g>\n     </g>\n    </g>\n    <g id=\"ytick_42\">\n     <g id=\"line2d_88\">\n      <path d=\"M 48.229188 75.044717 \nL 438.829188 75.044717 \n\" clip-path=\"url(#pd9a88ad95f)\" style=\"fill: none; stroke: #000000; stroke-opacity: 0.11; stroke-width: 0.6; stroke-linecap: square\"/>\n     </g>\n     <g id=\"line2d_89\">\n      <g>\n       <use xlink:href=\"#m4052f42ec1\" x=\"438.829188\" y=\"75.044717\" style=\"stroke: #000000; stroke-width: 0.6\"/>\n      </g>\n     </g>\n     <g id=\"text_21\">\n      <!-- 100000 -->\n      <g transform=\"translate(444.829188 78.325498) scale(0.09 -0.09)\">\n       <use xlink:href=\"#TeXGyreHeros-Regular-31\"/>\n       <use xlink:href=\"#TeXGyreHeros-Regular-30\" x=\"55.599991\"/>\n       <use xlink:href=\"#TeXGyreHeros-Regular-30\" x=\"111.199982\"/>\n       <use xlink:href=\"#TeXGyreHeros-Regular-30\" x=\"166.799973\"/>\n       <use xlink:href=\"#TeXGyreHeros-Regular-30\" x=\"222.399963\"/>\n       <use xlink:href=\"#TeXGyreHeros-Regular-30\" x=\"277.999954\"/>\n      </g>\n     </g>\n    </g>\n    <g id=\"ytick_43\">\n     <g id=\"line2d_90\">\n      <path d=\"M 48.229188 52.393562 \nL 438.829188 52.393562 \n\" clip-path=\"url(#pd9a88ad95f)\" style=\"fill: none; stroke: #000000; stroke-opacity: 0.11; stroke-width: 0.6; stroke-linecap: square\"/>\n     </g>\n     <g id=\"line2d_91\">\n      <g>\n       <use xlink:href=\"#m4052f42ec1\" x=\"438.829188\" y=\"52.393562\" style=\"stroke: #000000; stroke-width: 0.6\"/>\n      </g>\n     </g>\n     <g id=\"text_22\">\n      <!-- 110000 -->\n      <g transform=\"translate(444.829188 55.674343) scale(0.09 -0.09)\">\n       <use xlink:href=\"#TeXGyreHeros-Regular-31\"/>\n       <use xlink:href=\"#TeXGyreHeros-Regular-31\" x=\"55.599991\"/>\n       <use xlink:href=\"#TeXGyreHeros-Regular-30\" x=\"111.199982\"/>\n       <use xlink:href=\"#TeXGyreHeros-Regular-30\" x=\"166.799973\"/>\n       <use xlink:href=\"#TeXGyreHeros-Regular-30\" x=\"222.399963\"/>\n       <use xlink:href=\"#TeXGyreHeros-Regular-30\" x=\"277.999954\"/>\n      </g>\n     </g>\n    </g>\n    <g id=\"ytick_44\">\n     <g id=\"line2d_92\">\n      <path d=\"M 48.229188 29.742407 \nL 438.829188 29.742407 \n\" clip-path=\"url(#pd9a88ad95f)\" style=\"fill: none; stroke: #000000; stroke-opacity: 0.11; stroke-width: 0.6; stroke-linecap: square\"/>\n     </g>\n     <g id=\"line2d_93\">\n      <g>\n       <use xlink:href=\"#m4052f42ec1\" x=\"438.829188\" y=\"29.742407\" style=\"stroke: #000000; stroke-width: 0.6\"/>\n      </g>\n     </g>\n     <g id=\"text_23\">\n      <!-- 120000 -->\n      <g transform=\"translate(444.829188 33.023188) scale(0.09 -0.09)\">\n       <use xlink:href=\"#TeXGyreHeros-Regular-31\"/>\n       <use xlink:href=\"#TeXGyreHeros-Regular-32\" x=\"55.599991\"/>\n       <use xlink:href=\"#TeXGyreHeros-Regular-30\" x=\"111.199982\"/>\n       <use xlink:href=\"#TeXGyreHeros-Regular-30\" x=\"166.799973\"/>\n       <use xlink:href=\"#TeXGyreHeros-Regular-30\" x=\"222.399963\"/>\n       <use xlink:href=\"#TeXGyreHeros-Regular-30\" x=\"277.999954\"/>\n      </g>\n     </g>\n    </g>\n    <g id=\"ytick_45\">\n     <g id=\"line2d_94\">\n      <defs>\n       <path id=\"m3a284d9df3\" d=\"M 0 0 \nL 2 0 \n\" style=\"stroke: #000000; stroke-width: 0.48\"/>\n      </defs>\n      <g>\n       <use xlink:href=\"#m3a284d9df3\" x=\"438.829188\" y=\"183.77026\" style=\"stroke: #000000; stroke-width: 0.48\"/>\n      </g>\n     </g>\n    </g>\n    <g id=\"ytick_46\">\n     <g id=\"line2d_95\">\n      <g>\n       <use xlink:href=\"#m3a284d9df3\" x=\"438.829188\" y=\"179.240029\" style=\"stroke: #000000; stroke-width: 0.48\"/>\n      </g>\n     </g>\n    </g>\n    <g id=\"ytick_47\">\n     <g id=\"line2d_96\">\n      <g>\n       <use xlink:href=\"#m3a284d9df3\" x=\"438.829188\" y=\"174.709798\" style=\"stroke: #000000; stroke-width: 0.48\"/>\n      </g>\n     </g>\n    </g>\n    <g id=\"ytick_48\">\n     <g id=\"line2d_97\">\n      <g>\n       <use xlink:href=\"#m3a284d9df3\" x=\"438.829188\" y=\"170.179567\" style=\"stroke: #000000; stroke-width: 0.48\"/>\n      </g>\n     </g>\n    </g>\n    <g id=\"ytick_49\">\n     <g id=\"line2d_98\">\n      <g>\n       <use xlink:href=\"#m3a284d9df3\" x=\"438.829188\" y=\"161.119105\" style=\"stroke: #000000; stroke-width: 0.48\"/>\n      </g>\n     </g>\n    </g>\n    <g id=\"ytick_50\">\n     <g id=\"line2d_99\">\n      <g>\n       <use xlink:href=\"#m3a284d9df3\" x=\"438.829188\" y=\"156.588874\" style=\"stroke: #000000; stroke-width: 0.48\"/>\n      </g>\n     </g>\n    </g>\n    <g id=\"ytick_51\">\n     <g id=\"line2d_100\">\n      <g>\n       <use xlink:href=\"#m3a284d9df3\" x=\"438.829188\" y=\"152.058643\" style=\"stroke: #000000; stroke-width: 0.48\"/>\n      </g>\n     </g>\n    </g>\n    <g id=\"ytick_52\">\n     <g id=\"line2d_101\">\n      <g>\n       <use xlink:href=\"#m3a284d9df3\" x=\"438.829188\" y=\"147.528412\" style=\"stroke: #000000; stroke-width: 0.48\"/>\n      </g>\n     </g>\n    </g>\n    <g id=\"ytick_53\">\n     <g id=\"line2d_102\">\n      <g>\n       <use xlink:href=\"#m3a284d9df3\" x=\"438.829188\" y=\"138.46795\" style=\"stroke: #000000; stroke-width: 0.48\"/>\n      </g>\n     </g>\n    </g>\n    <g id=\"ytick_54\">\n     <g id=\"line2d_103\">\n      <g>\n       <use xlink:href=\"#m3a284d9df3\" x=\"438.829188\" y=\"133.937719\" style=\"stroke: #000000; stroke-width: 0.48\"/>\n      </g>\n     </g>\n    </g>\n    <g id=\"ytick_55\">\n     <g id=\"line2d_104\">\n      <g>\n       <use xlink:href=\"#m3a284d9df3\" x=\"438.829188\" y=\"129.407488\" style=\"stroke: #000000; stroke-width: 0.48\"/>\n      </g>\n     </g>\n    </g>\n    <g id=\"ytick_56\">\n     <g id=\"line2d_105\">\n      <g>\n       <use xlink:href=\"#m3a284d9df3\" x=\"438.829188\" y=\"124.877257\" style=\"stroke: #000000; stroke-width: 0.48\"/>\n      </g>\n     </g>\n    </g>\n    <g id=\"ytick_57\">\n     <g id=\"line2d_106\">\n      <g>\n       <use xlink:href=\"#m3a284d9df3\" x=\"438.829188\" y=\"115.816795\" style=\"stroke: #000000; stroke-width: 0.48\"/>\n      </g>\n     </g>\n    </g>\n    <g id=\"ytick_58\">\n     <g id=\"line2d_107\">\n      <g>\n       <use xlink:href=\"#m3a284d9df3\" x=\"438.829188\" y=\"111.286564\" style=\"stroke: #000000; stroke-width: 0.48\"/>\n      </g>\n     </g>\n    </g>\n    <g id=\"ytick_59\">\n     <g id=\"line2d_108\">\n      <g>\n       <use xlink:href=\"#m3a284d9df3\" x=\"438.829188\" y=\"106.756333\" style=\"stroke: #000000; stroke-width: 0.48\"/>\n      </g>\n     </g>\n    </g>\n    <g id=\"ytick_60\">\n     <g id=\"line2d_109\">\n      <g>\n       <use xlink:href=\"#m3a284d9df3\" x=\"438.829188\" y=\"102.226102\" style=\"stroke: #000000; stroke-width: 0.48\"/>\n      </g>\n     </g>\n    </g>\n    <g id=\"ytick_61\">\n     <g id=\"line2d_110\">\n      <g>\n       <use xlink:href=\"#m3a284d9df3\" x=\"438.829188\" y=\"93.165641\" style=\"stroke: #000000; stroke-width: 0.48\"/>\n      </g>\n     </g>\n    </g>\n    <g id=\"ytick_62\">\n     <g id=\"line2d_111\">\n      <g>\n       <use xlink:href=\"#m3a284d9df3\" x=\"438.829188\" y=\"88.63541\" style=\"stroke: #000000; stroke-width: 0.48\"/>\n      </g>\n     </g>\n    </g>\n    <g id=\"ytick_63\">\n     <g id=\"line2d_112\">\n      <g>\n       <use xlink:href=\"#m3a284d9df3\" x=\"438.829188\" y=\"84.105179\" style=\"stroke: #000000; stroke-width: 0.48\"/>\n      </g>\n     </g>\n    </g>\n    <g id=\"ytick_64\">\n     <g id=\"line2d_113\">\n      <g>\n       <use xlink:href=\"#m3a284d9df3\" x=\"438.829188\" y=\"79.574948\" style=\"stroke: #000000; stroke-width: 0.48\"/>\n      </g>\n     </g>\n    </g>\n    <g id=\"ytick_65\">\n     <g id=\"line2d_114\">\n      <g>\n       <use xlink:href=\"#m3a284d9df3\" x=\"438.829188\" y=\"70.514486\" style=\"stroke: #000000; stroke-width: 0.48\"/>\n      </g>\n     </g>\n    </g>\n    <g id=\"ytick_66\">\n     <g id=\"line2d_115\">\n      <g>\n       <use xlink:href=\"#m3a284d9df3\" x=\"438.829188\" y=\"65.984255\" style=\"stroke: #000000; stroke-width: 0.48\"/>\n      </g>\n     </g>\n    </g>\n    <g id=\"ytick_67\">\n     <g id=\"line2d_116\">\n      <g>\n       <use xlink:href=\"#m3a284d9df3\" x=\"438.829188\" y=\"61.454024\" style=\"stroke: #000000; stroke-width: 0.48\"/>\n      </g>\n     </g>\n    </g>\n    <g id=\"ytick_68\">\n     <g id=\"line2d_117\">\n      <g>\n       <use xlink:href=\"#m3a284d9df3\" x=\"438.829188\" y=\"56.923793\" style=\"stroke: #000000; stroke-width: 0.48\"/>\n      </g>\n     </g>\n    </g>\n    <g id=\"ytick_69\">\n     <g id=\"line2d_118\">\n      <g>\n       <use xlink:href=\"#m3a284d9df3\" x=\"438.829188\" y=\"47.863331\" style=\"stroke: #000000; stroke-width: 0.48\"/>\n      </g>\n     </g>\n    </g>\n    <g id=\"ytick_70\">\n     <g id=\"line2d_119\">\n      <g>\n       <use xlink:href=\"#m3a284d9df3\" x=\"438.829188\" y=\"43.3331\" style=\"stroke: #000000; stroke-width: 0.48\"/>\n      </g>\n     </g>\n    </g>\n    <g id=\"ytick_71\">\n     <g id=\"line2d_120\">\n      <g>\n       <use xlink:href=\"#m3a284d9df3\" x=\"438.829188\" y=\"38.802869\" style=\"stroke: #000000; stroke-width: 0.48\"/>\n      </g>\n     </g>\n    </g>\n    <g id=\"ytick_72\">\n     <g id=\"line2d_121\">\n      <g>\n       <use xlink:href=\"#m3a284d9df3\" x=\"438.829188\" y=\"34.272638\" style=\"stroke: #000000; stroke-width: 0.48\"/>\n      </g>\n     </g>\n    </g>\n    <g id=\"ytick_73\">\n     <g id=\"line2d_122\">\n      <g>\n       <use xlink:href=\"#m3a284d9df3\" x=\"438.829188\" y=\"25.212176\" style=\"stroke: #000000; stroke-width: 0.48\"/>\n      </g>\n     </g>\n    </g>\n    <g id=\"ytick_74\">\n     <g id=\"line2d_123\">\n      <g>\n       <use xlink:href=\"#m3a284d9df3\" x=\"438.829188\" y=\"20.681945\" style=\"stroke: #000000; stroke-width: 0.48\"/>\n      </g>\n     </g>\n    </g>\n    <g id=\"text_24\">\n     <!-- RMSE (Root Mean Squared Error) in testing -->\n     <g transform=\"translate(485.573094 190.106797) rotate(-90) scale(0.09 -0.09)\">\n      <defs>\n       <path id=\"TeXGyreHeros-Regular-52\" d=\"M 4346 0 \nL 3622 0 \nQ 3482 333 3488 762 \nL 3494 1178 \nQ 3501 1606 3312 1808 \nQ 3123 2010 2726 2010 \nL 1190 2010 \nL 1190 0 \nL 595 0 \nL 595 4666 \nL 2746 4666 \nQ 3430 4666 3798 4342 \nQ 4166 4019 4166 3418 \nQ 4166 3021 3993 2758 \nQ 3821 2496 3430 2304 \nQ 3808 2144 3929 1904 \nQ 4051 1664 4064 1088 \nQ 4070 621 4124 441 \nQ 4179 262 4346 147 \nL 4346 0 \nz\nM 3546 3334 \nQ 3546 3738 3331 3939 \nQ 3117 4141 2630 4141 \nL 1190 4141 \nL 1190 2534 \nL 2630 2534 \nQ 3104 2534 3325 2726 \nQ 3546 2918 3546 3334 \nz\n\" transform=\"scale(0.015625)\"/>\n       <path id=\"TeXGyreHeros-Regular-4d\" d=\"M 4870 0 \nL 4307 0 \nL 4307 3910 \nL 2995 0 \nL 2368 0 \nL 1043 3910 \nL 1043 0 \nL 480 0 \nL 480 4666 \nL 1306 4666 \nL 2688 602 \nL 4045 4666 \nL 4870 4666 \nL 4870 0 \nz\n\" transform=\"scale(0.015625)\"/>\n       <path id=\"TeXGyreHeros-Regular-53\" d=\"M 3974 1280 \nQ 3974 640 3497 262 \nQ 3021 -115 2150 -115 \nQ 1299 -115 803 301 \nQ 307 717 307 1517 \nL 870 1517 \nQ 870 1005 1206 707 \nQ 1542 410 2189 410 \nQ 3379 410 3379 1222 \nQ 3379 1754 2522 1978 \nL 1363 2285 \nQ 448 2522 448 3373 \nQ 448 4013 896 4397 \nQ 1344 4781 2106 4781 \nQ 2912 4781 3363 4400 \nQ 3814 4019 3814 3334 \nL 3251 3334 \nQ 3251 3789 2947 4035 \nQ 2643 4282 2086 4282 \nQ 1619 4282 1331 4048 \nQ 1043 3814 1043 3456 \nQ 1043 3187 1216 3030 \nQ 1389 2874 1811 2765 \nL 2982 2451 \nQ 3456 2323 3715 2016 \nQ 3974 1709 3974 1280 \nz\n\" transform=\"scale(0.015625)\"/>\n       <path id=\"TeXGyreHeros-Regular-71\" d=\"M 3168 -1395 \nL 2637 -1395 \nL 2637 435 \nQ 2272 -96 1600 -96 \nQ 934 -96 550 365 \nQ 166 826 166 1638 \nQ 166 2470 563 2960 \nQ 960 3450 1626 3450 \nQ 2310 3450 2694 2906 \nL 2694 3354 \nL 3168 3354 \nL 3168 -1395 \nz\nM 2637 1658 \nQ 2637 2246 2384 2598 \nQ 2131 2950 1702 2950 \nQ 1261 2950 992 2604 \nQ 723 2259 723 1676 \nQ 723 1094 992 748 \nQ 1261 403 1702 403 \nQ 2125 403 2381 742 \nQ 2637 1082 2637 1658 \nz\n\" transform=\"scale(0.015625)\"/>\n       <path id=\"TeXGyreHeros-Regular-67\" d=\"M 3130 550 \nQ 3130 -538 2784 -966 \nQ 2438 -1395 1632 -1395 \nQ 1043 -1395 691 -1126 \nQ 339 -858 294 -384 \nL 838 -384 \nQ 928 -947 1651 -947 \nQ 2138 -947 2387 -656 \nQ 2637 -365 2637 282 \nL 2637 506 \nQ 2368 186 2125 45 \nQ 1882 -96 1568 -96 \nQ 966 -96 576 384 \nQ 186 864 186 1645 \nQ 186 2458 579 2954 \nQ 973 3450 1613 3450 \nQ 2240 3450 2637 2867 \nL 2637 3354 \nL 3130 3354 \nL 3130 550 \nz\nM 2586 1658 \nQ 2586 2266 2342 2611 \nQ 2099 2957 1670 2957 \nQ 1242 2957 992 2617 \nQ 742 2278 742 1677 \nQ 742 1069 988 733 \nQ 1235 397 1677 397 \nQ 2099 397 2342 729 \nQ 2586 1062 2586 1658 \nz\n\" transform=\"scale(0.015625)\"/>\n      </defs>\n      <use xlink:href=\"#TeXGyreHeros-Regular-52\"/>\n      <use xlink:href=\"#TeXGyreHeros-Regular-4d\" x=\"72.199982\"/>\n      <use xlink:href=\"#TeXGyreHeros-Regular-53\" x=\"155.499969\"/>\n      <use xlink:href=\"#TeXGyreHeros-Regular-45\" x=\"222.199966\"/>\n      <use xlink:href=\"#TeXGyreHeros-Regular-20\" x=\"288.899963\"/>\n      <use xlink:href=\"#TeXGyreHeros-Regular-28\" x=\"316.699951\"/>\n      <use xlink:href=\"#TeXGyreHeros-Regular-52\" x=\"349.999939\"/>\n      <use xlink:href=\"#TeXGyreHeros-Regular-6f\" x=\"422.199921\"/>\n      <use xlink:href=\"#TeXGyreHeros-Regular-6f\" x=\"477.799911\"/>\n      <use xlink:href=\"#TeXGyreHeros-Regular-74\" x=\"533.399902\"/>\n      <use xlink:href=\"#TeXGyreHeros-Regular-20\" x=\"561.19989\"/>\n      <use xlink:href=\"#TeXGyreHeros-Regular-4d\" x=\"588.999878\"/>\n      <use xlink:href=\"#TeXGyreHeros-Regular-65\" x=\"672.299866\"/>\n      <use xlink:href=\"#TeXGyreHeros-Regular-61\" x=\"727.899857\"/>\n      <use xlink:href=\"#TeXGyreHeros-Regular-6e\" x=\"783.499847\"/>\n      <use xlink:href=\"#TeXGyreHeros-Regular-20\" x=\"839.099838\"/>\n      <use xlink:href=\"#TeXGyreHeros-Regular-53\" x=\"866.899826\"/>\n      <use xlink:href=\"#TeXGyreHeros-Regular-71\" x=\"933.599823\"/>\n      <use xlink:href=\"#TeXGyreHeros-Regular-75\" x=\"989.199814\"/>\n      <use xlink:href=\"#TeXGyreHeros-Regular-61\" x=\"1044.799805\"/>\n      <use xlink:href=\"#TeXGyreHeros-Regular-72\" x=\"1100.399796\"/>\n      <use xlink:href=\"#TeXGyreHeros-Regular-65\" x=\"1133.699783\"/>\n      <use xlink:href=\"#TeXGyreHeros-Regular-64\" x=\"1189.299774\"/>\n      <use xlink:href=\"#TeXGyreHeros-Regular-20\" x=\"1244.899765\"/>\n      <use xlink:href=\"#TeXGyreHeros-Regular-45\" x=\"1272.699753\"/>\n      <use xlink:href=\"#TeXGyreHeros-Regular-72\" x=\"1339.39975\"/>\n      <use xlink:href=\"#TeXGyreHeros-Regular-72\" x=\"1372.699738\"/>\n      <use xlink:href=\"#TeXGyreHeros-Regular-6f\" x=\"1405.999725\"/>\n      <use xlink:href=\"#TeXGyreHeros-Regular-72\" x=\"1461.599716\"/>\n      <use xlink:href=\"#TeXGyreHeros-Regular-29\" x=\"1494.899704\"/>\n      <use xlink:href=\"#TeXGyreHeros-Regular-20\" x=\"1528.199692\"/>\n      <use xlink:href=\"#TeXGyreHeros-Regular-69\" x=\"1555.99968\"/>\n      <use xlink:href=\"#TeXGyreHeros-Regular-6e\" x=\"1578.199677\"/>\n      <use xlink:href=\"#TeXGyreHeros-Regular-20\" x=\"1633.799667\"/>\n      <use xlink:href=\"#TeXGyreHeros-Regular-74\" x=\"1661.599655\"/>\n      <use xlink:href=\"#TeXGyreHeros-Regular-65\" x=\"1689.399643\"/>\n      <use xlink:href=\"#TeXGyreHeros-Regular-73\" x=\"1744.999634\"/>\n      <use xlink:href=\"#TeXGyreHeros-Regular-74\" x=\"1794.999619\"/>\n      <use xlink:href=\"#TeXGyreHeros-Regular-69\" x=\"1822.799606\"/>\n      <use xlink:href=\"#TeXGyreHeros-Regular-6e\" x=\"1844.999603\"/>\n      <use xlink:href=\"#TeXGyreHeros-Regular-67\" x=\"1900.599594\"/>\n     </g>\n     <!-- (Solid Lines) -->\n     <g transform=\"translate(495.538625 127.088516) rotate(-90) scale(0.09 -0.09)\">\n      <use xlink:href=\"#TeXGyreHeros-Regular-28\"/>\n      <use xlink:href=\"#TeXGyreHeros-Regular-53\" x=\"33.299988\"/>\n      <use xlink:href=\"#TeXGyreHeros-Regular-6f\" x=\"99.999985\"/>\n      <use xlink:href=\"#TeXGyreHeros-Regular-6c\" x=\"155.599976\"/>\n      <use xlink:href=\"#TeXGyreHeros-Regular-69\" x=\"177.799973\"/>\n      <use xlink:href=\"#TeXGyreHeros-Regular-64\" x=\"199.999969\"/>\n      <use xlink:href=\"#TeXGyreHeros-Regular-20\" x=\"255.59996\"/>\n      <use xlink:href=\"#TeXGyreHeros-Regular-4c\" x=\"283.399948\"/>\n      <use xlink:href=\"#TeXGyreHeros-Regular-69\" x=\"338.999939\"/>\n      <use xlink:href=\"#TeXGyreHeros-Regular-6e\" x=\"361.199936\"/>\n      <use xlink:href=\"#TeXGyreHeros-Regular-65\" x=\"416.799927\"/>\n      <use xlink:href=\"#TeXGyreHeros-Regular-73\" x=\"472.399918\"/>\n      <use xlink:href=\"#TeXGyreHeros-Regular-29\" x=\"522.399902\"/>\n     </g>\n    </g>\n   </g>\n   <g id=\"line2d_124\">\n    <path d=\"M 65.983733 26.483281 \nL 67.61259 81.256401 \nL 69.241448 81.661598 \nL 70.870305 82.614329 \nL 72.499162 88.53767 \nL 74.12802 94.703308 \nL 75.756877 95.257334 \nL 77.385735 95.588379 \nL 79.014592 95.591586 \n\" clip-path=\"url(#pd9a88ad95f)\" style=\"fill: none; stroke: #1f77b4; stroke-width: 1.5; stroke-linecap: square\"/>\n   </g>\n   <g id=\"line2d_125\">\n    <path d=\"M 65.983733 56.412804 \nL 67.61259 76.924295 \nL 69.241448 80.268731 \nL 70.870305 82.319718 \nL 72.499162 83.384056 \nL 74.12802 97.525661 \nL 75.756877 98.839683 \nL 77.385735 98.864675 \nL 79.014592 107.765926 \nL 80.643449 108.959936 \nL 82.272307 109.033848 \nL 83.901164 109.326982 \nL 85.530022 110.828988 \nL 87.158879 115.981385 \nL 88.787736 118.218902 \nL 90.416594 121.926141 \nL 92.045451 123.908478 \nL 93.674308 126.677058 \nL 95.303166 127.968342 \nL 96.932023 128.064881 \nL 98.560881 135.394893 \nL 100.189738 136.485542 \nL 101.818595 136.485582 \nL 103.447453 136.492424 \nL 105.07631 136.500877 \nL 106.705167 136.779021 \nL 108.334025 137.180901 \nL 109.962882 137.694022 \nL 111.59174 137.873492 \nL 113.220597 137.874991 \nL 114.849454 139.116381 \nL 116.478312 139.11884 \nL 118.107169 139.814425 \nL 119.736027 141.366452 \nL 121.364884 141.893524 \nL 122.993741 144.309522 \nL 124.622599 144.303688 \nL 126.251456 144.865411 \nL 127.880313 144.892404 \nL 129.509171 144.885558 \nL 131.138028 150.02996 \nL 132.766886 152.451821 \nL 134.395743 152.895104 \nL 136.0246 152.909998 \nL 137.653458 154.407008 \nL 139.282315 154.429052 \nL 140.911172 154.481452 \nL 142.54003 154.634912 \nL 144.168887 154.643171 \nL 145.797745 154.64596 \nL 147.426602 154.6907 \nL 149.055459 154.69798 \nL 150.684317 154.697529 \nL 152.313174 154.700241 \n\" clip-path=\"url(#pd9a88ad95f)\" style=\"fill: none; stroke: #ff7f0e; stroke-width: 1.5; stroke-linecap: square\"/>\n   </g>\n   <g id=\"line2d_126\">\n    <path d=\"M 65.983733 70.6652 \nL 67.61259 71.444227 \nL 69.241448 80.413644 \nL 70.870305 81.39601 \nL 72.499162 84.175973 \nL 74.12802 101.50797 \nL 75.756877 103.094049 \nL 77.385735 107.564753 \nL 79.014592 108.561655 \nL 82.272307 108.603883 \nL 83.901164 109.689694 \nL 85.530022 111.353303 \nL 87.158879 114.616586 \nL 88.787736 123.017182 \nL 90.416594 123.585074 \nL 92.045451 123.751644 \nL 93.674308 126.947862 \nL 95.303166 127.411499 \nL 96.932023 131.19899 \nL 98.560881 135.499736 \nL 100.189738 137.134629 \nL 106.705167 137.326575 \nL 111.59174 137.767767 \nL 113.220597 137.773901 \nL 114.849454 138.147624 \nL 116.478312 139.60788 \nL 119.736027 139.997323 \nL 121.364884 139.980851 \nL 122.993741 140.249962 \nL 124.622599 141.081433 \nL 126.251456 141.63501 \nL 131.138028 142.025708 \nL 134.395743 142.061251 \nL 136.0246 142.301099 \nL 137.653458 142.853116 \nL 139.282315 143.647635 \nL 140.911172 143.768036 \nL 142.54003 144.128865 \nL 145.797745 144.363626 \nL 147.426602 145.284453 \nL 149.055459 145.311585 \nL 150.684317 145.669289 \nL 152.313174 146.812638 \nL 153.942032 147.489164 \nL 155.570889 149.449685 \nL 157.199746 151.211512 \nL 158.828604 151.313768 \nL 160.457461 152.093848 \nL 163.715176 152.183644 \nL 165.344033 152.427098 \nL 170.230605 152.584005 \nL 173.48832 152.995224 \nL 175.117177 153.274731 \nL 178.374892 153.280996 \nL 180.00375 154.29547 \nL 183.261464 154.303286 \nL 189.776894 154.609844 \nL 196.292323 154.690371 \nL 197.921181 154.873074 \nL 201.178896 154.876534 \nL 204.43661 155.005376 \nL 209.323182 155.015503 \nL 210.95204 155.380721 \nL 212.580897 155.904968 \nL 214.209755 155.969266 \nL 217.467469 156.387522 \nL 219.096327 156.399106 \nL 220.725184 156.90152 \nL 222.354042 156.96035 \nL 223.982899 157.462556 \nL 225.611756 157.847135 \nL 227.240614 158.047259 \nL 228.869471 158.023497 \nL 230.498328 158.263194 \nL 243.529188 158.578678 \nL 245.158045 163.211959 \nL 246.786902 163.671462 \nL 248.41576 163.685282 \nL 250.044617 164.140151 \nL 254.931189 164.224557 \nL 256.560047 164.92845 \nL 259.817761 165.167442 \nL 261.446619 165.164131 \nL 263.075476 166.280206 \nL 264.704333 166.352966 \nL 266.333191 168.283256 \nL 274.477478 168.762895 \nL 276.106335 169.806726 \nL 280.992907 169.884822 \nL 282.621765 170.035118 \nL 284.250622 170.06626 \nL 285.879479 172.1524 \nL 287.508337 172.369225 \nL 289.137194 173.015494 \nL 292.394909 173.027431 \nL 294.023766 173.208902 \nL 300.539196 173.262314 \nL 302.168053 173.579354 \nL 305.425768 173.912243 \nL 310.31234 173.933559 \nL 315.198912 174.004601 \nL 333.116343 174.03109 \nL 338.002916 174.012104 \nL 341.26063 174.110396 \nL 342.889488 174.122377 \nL 344.518345 174.494828 \nL 347.77606 174.547834 \nL 349.404917 175.135068 \nL 365.693491 175.280367 \nL 368.951206 175.387824 \nL 372.208921 175.441068 \nL 380.353208 175.466465 \nL 381.982065 176.016342 \nL 385.23978 176.364252 \nL 386.868637 176.833116 \nL 393.384067 176.963266 \nL 398.270639 177.027341 \nL 399.899496 177.216526 \nL 401.528353 177.621742 \nL 421.074642 177.630442 \nL 421.074642 177.630442 \n\" clip-path=\"url(#pd9a88ad95f)\" style=\"fill: none; stroke: #2ca02c; stroke-width: 1.5; stroke-linecap: square\"/>\n   </g>\n   <g id=\"patch_7\">\n    <path d=\"M 48.229188 185.243281 \nL 48.229188 18.923281 \n\" style=\"fill: none; stroke: #000000; stroke-width: 0.6; stroke-linejoin: miter; stroke-linecap: square\"/>\n   </g>\n   <g id=\"patch_8\">\n    <path d=\"M 438.829188 185.243281 \nL 438.829188 18.923281 \n\" style=\"fill: none; stroke: #000000; stroke-width: 0.6; stroke-linejoin: miter; stroke-linecap: square\"/>\n   </g>\n   <g id=\"patch_9\">\n    <path d=\"M 48.229188 185.243281 \nL 438.829188 185.243281 \n\" style=\"fill: none; stroke: #000000; stroke-width: 0.6; stroke-linejoin: miter; stroke-linecap: square\"/>\n   </g>\n   <g id=\"patch_10\">\n    <path d=\"M 48.229188 18.923281 \nL 438.829188 18.923281 \n\" style=\"fill: none; stroke: #000000; stroke-width: 0.6; stroke-linejoin: miter; stroke-linecap: square\"/>\n   </g>\n   <g id=\"legend_1\">\n    <g id=\"patch_11\">\n     <path d=\"M 372.115281 62.493125 \nL 437.029188 62.493125 \nQ 438.829188 62.493125 438.829188 60.693125 \nL 438.829188 20.723281 \nQ 438.829188 18.923281 437.029188 18.923281 \nL 372.115281 18.923281 \nQ 370.315281 18.923281 370.315281 20.723281 \nL 370.315281 60.693125 \nQ 370.315281 62.493125 372.115281 62.493125 \nz\n\" style=\"fill: #ffffff; opacity: 0.8; stroke: #000000; stroke-width: 0.6; stroke-linejoin: miter\"/>\n    </g>\n    <g id=\"line2d_127\">\n     <path d=\"M 374.815281 26.834844 \nL 383.815281 26.834844 \nL 392.815281 26.834844 \n\" style=\"fill: none; stroke: #1f77b4; stroke-width: 1.5; stroke-linecap: square\"/>\n    </g>\n    <g id=\"text_25\">\n     <!-- Degree 1 -->\n     <g transform=\"translate(397.315281 29.984844) scale(0.09 -0.09)\">\n      <use xlink:href=\"#TeXGyreHeros-Regular-44\"/>\n      <use xlink:href=\"#TeXGyreHeros-Regular-65\" x=\"72.199982\"/>\n      <use xlink:href=\"#TeXGyreHeros-Regular-67\" x=\"127.799973\"/>\n      <use xlink:href=\"#TeXGyreHeros-Regular-72\" x=\"183.399963\"/>\n      <use xlink:href=\"#TeXGyreHeros-Regular-65\" x=\"216.699951\"/>\n      <use xlink:href=\"#TeXGyreHeros-Regular-65\" x=\"272.299942\"/>\n      <use xlink:href=\"#TeXGyreHeros-Regular-20\" x=\"327.899933\"/>\n      <use xlink:href=\"#TeXGyreHeros-Regular-31\" x=\"355.699921\"/>\n     </g>\n    </g>\n    <g id=\"line2d_128\">\n     <path d=\"M 374.815281 39.858125 \nL 383.815281 39.858125 \nL 392.815281 39.858125 \n\" style=\"fill: none; stroke: #ff7f0e; stroke-width: 1.5; stroke-linecap: square\"/>\n    </g>\n    <g id=\"text_26\">\n     <!-- Degree 2 -->\n     <g transform=\"translate(397.315281 43.008125) scale(0.09 -0.09)\">\n      <use xlink:href=\"#TeXGyreHeros-Regular-44\"/>\n      <use xlink:href=\"#TeXGyreHeros-Regular-65\" x=\"72.199982\"/>\n      <use xlink:href=\"#TeXGyreHeros-Regular-67\" x=\"127.799973\"/>\n      <use xlink:href=\"#TeXGyreHeros-Regular-72\" x=\"183.399963\"/>\n      <use xlink:href=\"#TeXGyreHeros-Regular-65\" x=\"216.699951\"/>\n      <use xlink:href=\"#TeXGyreHeros-Regular-65\" x=\"272.299942\"/>\n      <use xlink:href=\"#TeXGyreHeros-Regular-20\" x=\"327.899933\"/>\n      <use xlink:href=\"#TeXGyreHeros-Regular-32\" x=\"355.699921\"/>\n     </g>\n    </g>\n    <g id=\"line2d_129\">\n     <path d=\"M 374.815281 52.881406 \nL 383.815281 52.881406 \nL 392.815281 52.881406 \n\" style=\"fill: none; stroke: #2ca02c; stroke-width: 1.5; stroke-linecap: square\"/>\n    </g>\n    <g id=\"text_27\">\n     <!-- Degree 3 -->\n     <g transform=\"translate(397.315281 56.031406) scale(0.09 -0.09)\">\n      <use xlink:href=\"#TeXGyreHeros-Regular-44\"/>\n      <use xlink:href=\"#TeXGyreHeros-Regular-65\" x=\"72.199982\"/>\n      <use xlink:href=\"#TeXGyreHeros-Regular-67\" x=\"127.799973\"/>\n      <use xlink:href=\"#TeXGyreHeros-Regular-72\" x=\"183.399963\"/>\n      <use xlink:href=\"#TeXGyreHeros-Regular-65\" x=\"216.699951\"/>\n      <use xlink:href=\"#TeXGyreHeros-Regular-65\" x=\"272.299942\"/>\n      <use xlink:href=\"#TeXGyreHeros-Regular-20\" x=\"327.899933\"/>\n      <use xlink:href=\"#TeXGyreHeros-Regular-33\" x=\"355.699921\"/>\n     </g>\n    </g>\n   </g>\n  </g>\n </g>\n <defs>\n  <clipPath id=\"pd9a88ad95f\">\n   <rect x=\"48.229188\" y=\"18.923281\" width=\"390.6\" height=\"166.32\"/>\n  </clipPath>\n </defs>\n</svg>\n",
      "text/plain": [
       "<Figure size 700x300 with 2 Axes>"
      ]
     },
     "metadata": {},
     "output_type": "display_data"
    }
   ],
   "source": [
    "fig, ax = plt.subplots(figsize=(7,3))\n",
    "\n",
    "ax.set_xlabel('Number of PCs used as features')\n",
    "ax.set_ylabel('Cumulative proportion of total variance captured\\n(Dashed Lines)')\n",
    "plt.style.use(r'C:\\Users\\lnick\\Documents\\Personal\\Programming\\Python\\Resources\\proplot_style.mplstyle')\n",
    "plt.title('Effectiveness of PCA applied to model order reduction')\n",
    "\n",
    "ax.plot([0], [0.5], color='black', linestyle='dashed', label='Variance')\n",
    "ax.plot([0], [0.5], color='black', label='Error')\n",
    "\n",
    "for i in (1, 2, 3):\n",
    "    ax.plot(list(range(len(cum_vars[i]))), cum_vars[i], label=f'Degree {i}', linestyle='dashed')\n",
    "\n",
    "ax2 = ax.twinx()\n",
    "\n",
    "for i in (1, 2, 3):\n",
    "    ax2.plot(list(range(len(rmse_scores[i]))), rmse_scores[i], label=f'Degree {i}')\n",
    "\n",
    "ax2.set_ylabel('RMSE (Root Mean Squared Error) in testing\\n(Solid Lines)')\n",
    "\n",
    "plt.legend(loc='upper right')\n",
    "plt.show()"
   ]
  },
  {
   "attachments": {},
   "cell_type": "markdown",
   "metadata": {},
   "source": [
    "Build desired model:"
   ]
  },
  {
   "cell_type": "code",
   "execution_count": 9,
   "metadata": {},
   "outputs": [
    {
     "name": "stdout",
     "output_type": "stream",
     "text": [
      "57619.80297829292\n"
     ]
    }
   ],
   "source": [
    "# Visually determine optimal number of principal components\n",
    "best_pc_num = 136\n",
    "\n",
    "# Train model with first 9 principal components\n",
    "pca = PCA()\n",
    "X_train_pc = pca.fit_transform(X_train_scaled)\n",
    "lin_reg_pc = LinearRegression().fit(X_train_pc[:,:best_pc_num], y_train)\n",
    "\n",
    "# Get cross-validation RMSE (train set)\n",
    "pcr_score_train = -1 * cross_val_score(lin_reg_pc, \n",
    "                                       X_train_pc[:,:best_pc_num], \n",
    "                                       y_train, \n",
    "                                       cv=cv, \n",
    "                                       scoring='neg_root_mean_squared_error').mean()\n",
    "\n",
    "# Train model on training set\n",
    "lin_reg_pc = LinearRegression().fit(X_train_pc[:,:best_pc_num], y_train)\n",
    "\n",
    "# Get first 9 principal components of test set\n",
    "X_test_pc = pca.transform(X_test_scaled)[:,:best_pc_num]\n",
    "\n",
    "# Predict on test data\n",
    "preds = lin_reg_pc.predict(X_test_pc)\n",
    "pcr_score_test = mean_squared_error(y_test, preds, squared=False)\n",
    "\n",
    "print(pcr_score_test)"
   ]
  },
  {
   "attachments": {},
   "cell_type": "markdown",
   "metadata": {},
   "source": [
    "Save model parameters for easy access later:"
   ]
  },
  {
   "cell_type": "code",
   "execution_count": 26,
   "metadata": {},
   "outputs": [],
   "source": [
    "mean_std_arr = np.array([X_poly.mean(axis=0), X_poly.std(axis=0)])\n",
    "np.save('mean_std_arr.npy', mean_std_arr)\n",
    "np.save('pca_components.npy', pca.components_.T[:, :best_pc_num])\n",
    "np.save('lin_reg_int_coef.npy', [lin_reg_pc.intercept_, lin_reg_pc.coef_])"
   ]
  },
  {
   "attachments": {},
   "cell_type": "markdown",
   "metadata": {},
   "source": [
    "Make a sample prediction:"
   ]
  },
  {
   "cell_type": "code",
   "execution_count": 27,
   "metadata": {},
   "outputs": [
    {
     "name": "stdout",
     "output_type": "stream",
     "text": [
      "324750.41722097306\n"
     ]
    }
   ],
   "source": [
    "def transform_and_predict(df_sample: pd.DataFrame) -> float:\n",
    "    '''\n",
    "    Takes an input containing the 9 numeric variables, preprocesses them and predicts the output.\n",
    "    '''\n",
    "\n",
    "    # generate polynomial features\n",
    "    poly = PolynomialFeatures(degree=3, include_bias=False)\n",
    "    df_sample_poly = poly.fit_transform(df_sample)\n",
    "\n",
    "    # standardise wrt dataset means and variances\n",
    "    means, std_devs = np.load('mean_std_arr.npy')\n",
    "    df_sample_std = (df_sample_poly - means) / std_devs\n",
    "\n",
    "    # transform to PC space\n",
    "    pca_mat = np.load('pca_components.npy')\n",
    "    df_sample_pc = df_sample_std @ pca_mat\n",
    "\n",
    "    # make prediction\n",
    "    intercept, coeff = np.load('lin_reg_int_coef.npy', allow_pickle=True)\n",
    "    pred = intercept + coeff @ df_sample_pc.T\n",
    "    return float(pred)\n",
    "\n",
    "\n",
    "df_sample = pd.read_excel('test_data.xlsx')  # 1 x 9\n",
    "pred = transform_and_predict(df_sample)\n",
    "print(pred)"
   ]
  }
 ],
 "metadata": {
  "kernelspec": {
   "display_name": "AllLibs310",
   "language": "python",
   "name": "alllibs310"
  },
  "language_info": {
   "codemirror_mode": {
    "name": "ipython",
    "version": 3
   },
   "file_extension": ".py",
   "mimetype": "text/x-python",
   "name": "python",
   "nbconvert_exporter": "python",
   "pygments_lexer": "ipython3",
   "version": "3.10.0"
  }
 },
 "nbformat": 4,
 "nbformat_minor": 2
}
